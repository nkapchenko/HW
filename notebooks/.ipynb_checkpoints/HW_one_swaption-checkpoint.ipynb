{
 "cells": [
  {
   "cell_type": "code",
   "execution_count": 1,
   "metadata": {},
   "outputs": [],
   "source": [
    "import numpy as np\n",
    "import pandas as pd\n",
    "from numpy import exp, array\n",
    "from hw import Jamshidian as jamsh\n",
    "from hw import Henrard as henr\n",
    "from hw import calibration as hw_calib\n",
    "import hw.calibration as calib\n",
    "from hw.const import *\n",
    "from fox_toolbox.utils import xml_parser as log\n",
    "from fox_toolbox.utils import rates\n",
    "from scipy.stats import norm\n",
    "import scipy.integrate as integrate\n",
    "from numpy import exp, sqrt\n",
    "from scipy.stats import norm\n",
    "from fox_toolbox.utils import volatility as vols\n",
    "\n",
    "%load_ext autoreload\n",
    "%autoreload 2"
   ]
  },
  {
   "cell_type": "markdown",
   "metadata": {},
   "source": [
    "### Read IRSM FORM"
   ]
  },
  {
   "cell_type": "code",
   "execution_count": 2,
   "metadata": {},
   "outputs": [],
   "source": [
    "_, irsmform = log.get_xml(INPUT_1SWO)\n",
    "main_curve, sprds = log.get_curves(irsmform)\n",
    "dsc_curve = main_curve\n",
    "\n",
    "try:\n",
    "    estim_curve = sprds[0]\n",
    "except TypeError:\n",
    "    estim_curve = main_curve\n",
    "\n",
    "cal_basket = list(log.get_calib_basket(irsmform))\n",
    "swo = cal_basket[0]"
   ]
  },
  {
   "cell_type": "code",
   "execution_count": 3,
   "metadata": {},
   "outputs": [],
   "source": [
    "fwd = swo.get_swap_rate(main_curve, estim_curve)\n",
    "flt_adjs = swo.get_flt_adjustments(main_curve, estim_curve)\n",
    "\n",
    "calib_annuity = swo.get_annuity(main_curve)"
   ]
  },
  {
   "cell_type": "markdown",
   "metadata": {},
   "source": [
    "### READ IRSM OUT"
   ]
  },
  {
   "cell_type": "code",
   "execution_count": 4,
   "metadata": {},
   "outputs": [],
   "source": [
    "_, irsmout = log.get_xml(OUTPUT_1SWO)\n",
    "ref_swo = list(log.get_calib_basket(irsmout))[0]\n",
    "\n",
    "# ref_swos = list(log.get_calib_basket(irsmout))\n",
    "\n",
    "ref_mr, (hw_buckets, hw_sigma) = log.get_hw_params(irsmout)\n",
    "\n",
    "ref_sigmas = rates.Curve1d(hw_buckets, hw_sigma, 'PieceWise')"
   ]
  },
  {
   "cell_type": "code",
   "execution_count": 5,
   "metadata": {},
   "outputs": [],
   "source": [
    "ref_sigma = ref_sigmas.values[0]"
   ]
  },
  {
   "cell_type": "markdown",
   "metadata": {},
   "source": [
    "### MAIN HW (Jamshidian)"
   ]
  },
  {
   "cell_type": "code",
   "execution_count": 6,
   "metadata": {},
   "outputs": [
    {
     "data": {
      "text/plain": [
       "0.013734203599531935"
      ]
     },
     "execution_count": 6,
     "metadata": {},
     "output_type": "execute_result"
    }
   ],
   "source": [
    "coefJ = jamsh.get_coef(swo, ref_mr, ref_sigma, main_curve, estim_curve)\n",
    "b_i = jamsh.get_b_i(swo, ref_mr)\n",
    "varx = jamsh.get_var_x(swo.expiry, ref_mr, ref_sigma)\n",
    "\n",
    "x_starJ = jamsh.get_x_star(coefJ, b_i, varx)\n",
    "\n",
    "jamsh_price = jamsh.hw_swo(swo, ref_mr, ref_sigma, main_curve, estim_curve) #* main_curve.get_dsc(swo.expiry)\n",
    "jamsh_price"
   ]
  },
  {
   "cell_type": "markdown",
   "metadata": {},
   "source": [
    "## MAIN HW (Hernard)"
   ]
  },
  {
   "cell_type": "code",
   "execution_count": null,
   "metadata": {},
   "outputs": [],
   "source": [
    "start_date = swo.start_date\n",
    "\n",
    "hw_dates = np.insert(swo.payment_dates, 0, start_date)\n",
    "\n",
    "coefH = henr.get_coef(swo.day_count_fractions, swo.strike, flt_adjs)\n",
    "P_i = henr.get_P_i(dsc_curve, hw_dates)\n",
    "alpha_i, debug_total_var = henr.get_alpha_i(ref_mr, swo.expiry, hw_dates, ref_sigmas)\n",
    "\n",
    "x_starH = henr.get_x_star(coefH, P_i, alpha_i)\n",
    "\n",
    "henr_price, debug, debug_total_var = henr.hw_swo(swo, ref_mr, ref_sigmas, dsc_curve, estim_curve)\n",
    "debug_df = pd.DataFrame(data=debug)\n",
    "henr_price"
   ]
  },
  {
   "cell_type": "code",
   "execution_count": 13,
   "metadata": {},
   "outputs": [
    {
     "data": {
      "text/html": [
       "<div>\n",
       "<style scoped>\n",
       "    .dataframe tbody tr th:only-of-type {\n",
       "        vertical-align: middle;\n",
       "    }\n",
       "\n",
       "    .dataframe tbody tr th {\n",
       "        vertical-align: top;\n",
       "    }\n",
       "\n",
       "    .dataframe thead th {\n",
       "        text-align: right;\n",
       "    }\n",
       "</style>\n",
       "<table border=\"1\" class=\"dataframe\">\n",
       "  <thead>\n",
       "    <tr style=\"text-align: right;\">\n",
       "      <th></th>\n",
       "      <th>Expiry</th>\n",
       "      <th>hw_dates</th>\n",
       "      <th>coef</th>\n",
       "      <th>P_i</th>\n",
       "      <th>alpha_i</th>\n",
       "      <th>x_star</th>\n",
       "      <th>IsAnalytic</th>\n",
       "      <th>degen_coef</th>\n",
       "      <th>degen_x_star</th>\n",
       "      <th>correction</th>\n",
       "    </tr>\n",
       "  </thead>\n",
       "  <tbody>\n",
       "    <tr>\n",
       "      <th>0</th>\n",
       "      <td>0.99726</td>\n",
       "      <td>1.005479</td>\n",
       "      <td>-1.000000</td>\n",
       "      <td>0.998545</td>\n",
       "      <td>0.000016</td>\n",
       "      <td>NaN</td>\n",
       "      <td>False</td>\n",
       "      <td>-1.000000</td>\n",
       "      <td>-1.529294</td>\n",
       "      <td>1.099441e-09</td>\n",
       "    </tr>\n",
       "    <tr>\n",
       "      <th>1</th>\n",
       "      <td>0.99726</td>\n",
       "      <td>2.010959</td>\n",
       "      <td>0.003373</td>\n",
       "      <td>0.997517</td>\n",
       "      <td>0.001887</td>\n",
       "      <td>NaN</td>\n",
       "      <td>False</td>\n",
       "      <td>0.003373</td>\n",
       "      <td>-1.529294</td>\n",
       "      <td>1.099441e-09</td>\n",
       "    </tr>\n",
       "    <tr>\n",
       "      <th>2</th>\n",
       "      <td>0.99726</td>\n",
       "      <td>3.008219</td>\n",
       "      <td>0.000112</td>\n",
       "      <td>0.995364</td>\n",
       "      <td>0.003653</td>\n",
       "      <td>NaN</td>\n",
       "      <td>False</td>\n",
       "      <td>0.000112</td>\n",
       "      <td>-1.529294</td>\n",
       "      <td>1.099441e-09</td>\n",
       "    </tr>\n",
       "    <tr>\n",
       "      <th>3</th>\n",
       "      <td>0.99726</td>\n",
       "      <td>4.008219</td>\n",
       "      <td>-0.003203</td>\n",
       "      <td>0.993209</td>\n",
       "      <td>0.005337</td>\n",
       "      <td>NaN</td>\n",
       "      <td>False</td>\n",
       "      <td>0.000000</td>\n",
       "      <td>-1.529294</td>\n",
       "      <td>1.099441e-09</td>\n",
       "    </tr>\n",
       "    <tr>\n",
       "      <th>4</th>\n",
       "      <td>0.99726</td>\n",
       "      <td>5.008219</td>\n",
       "      <td>0.993485</td>\n",
       "      <td>0.991059</td>\n",
       "      <td>0.006939</td>\n",
       "      <td>NaN</td>\n",
       "      <td>False</td>\n",
       "      <td>0.993485</td>\n",
       "      <td>-1.529294</td>\n",
       "      <td>1.099441e-09</td>\n",
       "    </tr>\n",
       "  </tbody>\n",
       "</table>\n",
       "</div>"
      ],
      "text/plain": [
       "    Expiry  hw_dates      coef       P_i   alpha_i  x_star  IsAnalytic  \\\n",
       "0  0.99726  1.005479 -1.000000  0.998545  0.000016     NaN       False   \n",
       "1  0.99726  2.010959  0.003373  0.997517  0.001887     NaN       False   \n",
       "2  0.99726  3.008219  0.000112  0.995364  0.003653     NaN       False   \n",
       "3  0.99726  4.008219 -0.003203  0.993209  0.005337     NaN       False   \n",
       "4  0.99726  5.008219  0.993485  0.991059  0.006939     NaN       False   \n",
       "\n",
       "   degen_coef  degen_x_star    correction  \n",
       "0   -1.000000     -1.529294  1.099441e-09  \n",
       "1    0.003373     -1.529294  1.099441e-09  \n",
       "2    0.000112     -1.529294  1.099441e-09  \n",
       "3    0.000000     -1.529294  1.099441e-09  \n",
       "4    0.993485     -1.529294  1.099441e-09  "
      ]
     },
     "execution_count": 13,
     "metadata": {},
     "output_type": "execute_result"
    }
   ],
   "source": [
    "debug_df"
   ]
  },
  {
   "cell_type": "code",
   "execution_count": 14,
   "metadata": {},
   "outputs": [
    {
     "data": {
      "text/plain": [
       "Curve1d('HW total var by expiries', array([0.        , 0.99726027]), array([0.00000000e+00, 4.02798435e-06]), PieceWise)"
      ]
     },
     "execution_count": 14,
     "metadata": {},
     "output_type": "execute_result"
    }
   ],
   "source": [
    "debug_total_var"
   ]
  },
  {
   "cell_type": "markdown",
   "metadata": {},
   "source": [
    "### Bachelier price from market info"
   ]
  },
  {
   "cell_type": "code",
   "execution_count": 11,
   "metadata": {},
   "outputs": [
    {
     "data": {
      "text/plain": [
       "0.013706940103996023"
      ]
     },
     "execution_count": 11,
     "metadata": {},
     "output_type": "execute_result"
    }
   ],
   "source": [
    "w = -1.0 if swo.pay_rec == 'Receiver' else 1.0\n",
    "\n",
    "black_price = calib_annuity * vols.BachelierPrice(fwd, swo.strike, swo.vol.value * np.sqrt(swo.expiry), w=w)\n",
    "black_price"
   ]
  },
  {
   "cell_type": "markdown",
   "metadata": {},
   "source": [
    "## HW Calibration"
   ]
  },
  {
   "cell_type": "code",
   "execution_count": 23,
   "metadata": {},
   "outputs": [
    {
     "name": "stdout",
     "output_type": "stream",
     "text": [
      "0.9972602739726\n",
      "Curve1d\n",
      "--------------------------------------------------------------------------------\n",
      "Name: 'HW model sigma'\n",
      "Pillars: array([0.])\n",
      "Zero-coupons: array([nan])\n",
      "Interpolation: 'PieceWise'\n"
     ]
    },
    {
     "ename": "TypeError",
     "evalue": "unsupported operand type(s) for -: 'NoneType' and 'NoneType'",
     "output_type": "error",
     "traceback": [
      "\u001b[0;31m---------------------------------------------------------------------------\u001b[0m",
      "\u001b[0;31mTypeError\u001b[0m                                 Traceback (most recent call last)",
      "\u001b[0;32m<ipython-input-23-c966faed2321>\u001b[0m in \u001b[0;36m<module>\u001b[0;34m()\u001b[0m\n\u001b[0;32m----> 1\u001b[0;31m \u001b[0msigma_hw_jamsh\u001b[0m \u001b[0;34m=\u001b[0m \u001b[0mhw_calib\u001b[0m\u001b[0;34m.\u001b[0m\u001b[0mcalibrate_sigma_hw\u001b[0m\u001b[0;34m(\u001b[0m\u001b[0mcal_basket\u001b[0m\u001b[0;34m,\u001b[0m \u001b[0mref_mr\u001b[0m\u001b[0;34m,\u001b[0m \u001b[0mdsc_curve\u001b[0m\u001b[0;34m,\u001b[0m \u001b[0mestim_curve\u001b[0m\u001b[0;34m,\u001b[0m \u001b[0;32mTrue\u001b[0m\u001b[0;34m)\u001b[0m\u001b[0;34m\u001b[0m\u001b[0;34m\u001b[0m\u001b[0m\n\u001b[0m\u001b[1;32m      2\u001b[0m \u001b[0;36m100\u001b[0m\u001b[0;34m*\u001b[0m\u001b[0msigma_hw_jamsh\u001b[0m\u001b[0;34m\u001b[0m\u001b[0;34m\u001b[0m\u001b[0m\n",
      "\u001b[0;32md:\\workspace\\perso\\github\\hw\\src\\hw\\calibration.py\u001b[0m in \u001b[0;36mcalibrate_sigma_hw\u001b[0;34m(cal_basket, a, curve, estim_curve, IsJamsh)\u001b[0m\n\u001b[1;32m     59\u001b[0m             \u001b[0;32mreturn\u001b[0m \u001b[0mhw_swo_price\u001b[0m \u001b[0;34m-\u001b[0m \u001b[0mmarket_swo_price\u001b[0m\u001b[0;34m\u001b[0m\u001b[0;34m\u001b[0m\u001b[0m\n\u001b[1;32m     60\u001b[0m \u001b[0;34m\u001b[0m\u001b[0m\n\u001b[0;32m---> 61\u001b[0;31m         \u001b[0moptimum_sigma\u001b[0m \u001b[0;34m=\u001b[0m \u001b[0moptimize\u001b[0m\u001b[0;34m.\u001b[0m\u001b[0mnewton\u001b[0m\u001b[0;34m(\u001b[0m\u001b[0mprice_diff\u001b[0m\u001b[0;34m,\u001b[0m \u001b[0mx0\u001b[0m\u001b[0;34m=\u001b[0m\u001b[0mvol0\u001b[0m\u001b[0;34m,\u001b[0m \u001b[0margs\u001b[0m\u001b[0;34m=\u001b[0m\u001b[0;34m(\u001b[0m\u001b[0msigma1d\u001b[0m\u001b[0;34m,\u001b[0m\u001b[0;34m)\u001b[0m\u001b[0;34m,\u001b[0m \u001b[0mtol\u001b[0m\u001b[0;34m=\u001b[0m\u001b[0;36m1.e-09\u001b[0m\u001b[0;34m,\u001b[0m \u001b[0mmaxiter\u001b[0m\u001b[0;34m=\u001b[0m\u001b[0;36m80\u001b[0m\u001b[0;34m)\u001b[0m\u001b[0;34m\u001b[0m\u001b[0;34m\u001b[0m\u001b[0m\n\u001b[0m\u001b[1;32m     62\u001b[0m \u001b[0;34m\u001b[0m\u001b[0m\n\u001b[1;32m     63\u001b[0m         \u001b[0mvar_hw\u001b[0m \u001b[0;34m+=\u001b[0m \u001b[0moptimum_sigma\u001b[0m \u001b[0;34m**\u001b[0m \u001b[0;36m2\u001b[0m \u001b[0;34m*\u001b[0m \u001b[0;34m(\u001b[0m\u001b[0mexp\u001b[0m\u001b[0;34m(\u001b[0m\u001b[0;36m2\u001b[0m \u001b[0;34m*\u001b[0m \u001b[0ma\u001b[0m \u001b[0;34m*\u001b[0m \u001b[0mswo\u001b[0m\u001b[0;34m.\u001b[0m\u001b[0mexpiry\u001b[0m\u001b[0;34m)\u001b[0m \u001b[0;34m-\u001b[0m \u001b[0mexp\u001b[0m\u001b[0;34m(\u001b[0m\u001b[0;36m2\u001b[0m \u001b[0;34m*\u001b[0m \u001b[0ma\u001b[0m \u001b[0;34m*\u001b[0m \u001b[0mprevious_expiry\u001b[0m\u001b[0;34m)\u001b[0m\u001b[0;34m)\u001b[0m \u001b[0;34m/\u001b[0m \u001b[0;34m(\u001b[0m\u001b[0;36m2\u001b[0m \u001b[0;34m*\u001b[0m \u001b[0ma\u001b[0m\u001b[0;34m)\u001b[0m\u001b[0;34m\u001b[0m\u001b[0;34m\u001b[0m\u001b[0m\n",
      "\u001b[0;32mc:\\users\\mkapchenko\\appdata\\local\\programs\\python\\python37\\lib\\site-packages\\scipy\\optimize\\zeros.py\u001b[0m in \u001b[0;36mnewton\u001b[0;34m(func, x0, fprime, args, tol, maxiter, fprime2, x1, rtol, full_output, disp)\u001b[0m\n\u001b[1;32m    311\u001b[0m             \u001b[0mp1\u001b[0m \u001b[0;34m=\u001b[0m \u001b[0mx0\u001b[0m \u001b[0;34m*\u001b[0m \u001b[0;34m(\u001b[0m\u001b[0;36m1\u001b[0m \u001b[0;34m+\u001b[0m \u001b[0meps\u001b[0m\u001b[0;34m)\u001b[0m\u001b[0;34m\u001b[0m\u001b[0;34m\u001b[0m\u001b[0m\n\u001b[1;32m    312\u001b[0m             \u001b[0mp1\u001b[0m \u001b[0;34m+=\u001b[0m \u001b[0;34m(\u001b[0m\u001b[0meps\u001b[0m \u001b[0;32mif\u001b[0m \u001b[0mp1\u001b[0m \u001b[0;34m>=\u001b[0m \u001b[0;36m0\u001b[0m \u001b[0;32melse\u001b[0m \u001b[0;34m-\u001b[0m\u001b[0meps\u001b[0m\u001b[0;34m)\u001b[0m\u001b[0;34m\u001b[0m\u001b[0;34m\u001b[0m\u001b[0m\n\u001b[0;32m--> 313\u001b[0;31m         \u001b[0mq0\u001b[0m \u001b[0;34m=\u001b[0m \u001b[0mfunc\u001b[0m\u001b[0;34m(\u001b[0m\u001b[0mp0\u001b[0m\u001b[0;34m,\u001b[0m \u001b[0;34m*\u001b[0m\u001b[0margs\u001b[0m\u001b[0;34m)\u001b[0m\u001b[0;34m\u001b[0m\u001b[0;34m\u001b[0m\u001b[0m\n\u001b[0m\u001b[1;32m    314\u001b[0m         \u001b[0mfuncalls\u001b[0m \u001b[0;34m+=\u001b[0m \u001b[0;36m1\u001b[0m\u001b[0;34m\u001b[0m\u001b[0;34m\u001b[0m\u001b[0m\n\u001b[1;32m    315\u001b[0m         \u001b[0mq1\u001b[0m \u001b[0;34m=\u001b[0m \u001b[0mfunc\u001b[0m\u001b[0;34m(\u001b[0m\u001b[0mp1\u001b[0m\u001b[0;34m,\u001b[0m \u001b[0;34m*\u001b[0m\u001b[0margs\u001b[0m\u001b[0;34m)\u001b[0m\u001b[0;34m\u001b[0m\u001b[0;34m\u001b[0m\u001b[0m\n",
      "\u001b[0;32md:\\workspace\\perso\\github\\hw\\src\\hw\\calibration.py\u001b[0m in \u001b[0;36mprice_diff\u001b[0;34m(sigma, sigma1d)\u001b[0m\n\u001b[1;32m     56\u001b[0m             \u001b[0mprint\u001b[0m\u001b[0;34m(\u001b[0m\u001b[0msigma1d\u001b[0m\u001b[0;34m)\u001b[0m\u001b[0;34m\u001b[0m\u001b[0;34m\u001b[0m\u001b[0m\n\u001b[1;32m     57\u001b[0m             \u001b[0msigma1d\u001b[0m \u001b[0;34m=\u001b[0m \u001b[0minsert_sigma\u001b[0m\u001b[0;34m(\u001b[0m\u001b[0msigma1d\u001b[0m\u001b[0;34m,\u001b[0m \u001b[0mswo\u001b[0m\u001b[0;34m.\u001b[0m\u001b[0mexpiry\u001b[0m\u001b[0;34m,\u001b[0m \u001b[0msigma\u001b[0m\u001b[0;34m)\u001b[0m\u001b[0;34m\u001b[0m\u001b[0;34m\u001b[0m\u001b[0m\n\u001b[0;32m---> 58\u001b[0;31m             \u001b[0mhw_swo_price\u001b[0m\u001b[0;34m,\u001b[0m \u001b[0m_\u001b[0m\u001b[0;34m,\u001b[0m \u001b[0m_\u001b[0m \u001b[0;34m=\u001b[0m \u001b[0m_hw_swo\u001b[0m\u001b[0;34m(\u001b[0m\u001b[0msigma1d\u001b[0m\u001b[0;34m)\u001b[0m\u001b[0;34m\u001b[0m\u001b[0;34m\u001b[0m\u001b[0m\n\u001b[0m\u001b[1;32m     59\u001b[0m             \u001b[0;32mreturn\u001b[0m \u001b[0mhw_swo_price\u001b[0m \u001b[0;34m-\u001b[0m \u001b[0mmarket_swo_price\u001b[0m\u001b[0;34m\u001b[0m\u001b[0;34m\u001b[0m\u001b[0m\n\u001b[1;32m     60\u001b[0m \u001b[0;34m\u001b[0m\u001b[0m\n",
      "\u001b[0;32md:\\workspace\\perso\\github\\hw\\src\\hw\\Jamshidian.py\u001b[0m in \u001b[0;36mhw_swo\u001b[0;34m(swo, a, sigma, dsc_curve, estim_curve)\u001b[0m\n\u001b[1;32m    103\u001b[0m     \u001b[0mIsCall\u001b[0m \u001b[0;34m=\u001b[0m \u001b[0;32mFalse\u001b[0m \u001b[0;32mif\u001b[0m \u001b[0mswo\u001b[0m\u001b[0;34m.\u001b[0m\u001b[0mpay_rec\u001b[0m \u001b[0;34m==\u001b[0m \u001b[0;34m'Receiver'\u001b[0m \u001b[0;32melse\u001b[0m \u001b[0;32mTrue\u001b[0m\u001b[0;34m\u001b[0m\u001b[0;34m\u001b[0m\u001b[0m\n\u001b[1;32m    104\u001b[0m \u001b[0;34m\u001b[0m\u001b[0m\n\u001b[0;32m--> 105\u001b[0;31m     \u001b[0mcoef\u001b[0m \u001b[0;34m=\u001b[0m \u001b[0mget_coef\u001b[0m\u001b[0;34m(\u001b[0m\u001b[0mswo\u001b[0m\u001b[0;34m,\u001b[0m \u001b[0ma\u001b[0m\u001b[0;34m,\u001b[0m \u001b[0msigma\u001b[0m\u001b[0;34m,\u001b[0m \u001b[0mdsc_curve\u001b[0m\u001b[0;34m,\u001b[0m \u001b[0mestim_curve\u001b[0m\u001b[0;34m)\u001b[0m\u001b[0;34m\u001b[0m\u001b[0;34m\u001b[0m\u001b[0m\n\u001b[0m\u001b[1;32m    106\u001b[0m     \u001b[0mb_i\u001b[0m \u001b[0;34m=\u001b[0m \u001b[0mget_b_i\u001b[0m\u001b[0;34m(\u001b[0m\u001b[0mswo\u001b[0m\u001b[0;34m,\u001b[0m \u001b[0ma\u001b[0m\u001b[0;34m)\u001b[0m\u001b[0;34m\u001b[0m\u001b[0;34m\u001b[0m\u001b[0m\n\u001b[1;32m    107\u001b[0m     \u001b[0mvarx\u001b[0m \u001b[0;34m=\u001b[0m \u001b[0mvar_x\u001b[0m\u001b[0;34m(\u001b[0m\u001b[0mswo\u001b[0m\u001b[0;34m.\u001b[0m\u001b[0mexpiry\u001b[0m\u001b[0;34m,\u001b[0m \u001b[0ma\u001b[0m\u001b[0;34m,\u001b[0m \u001b[0msigma\u001b[0m\u001b[0;34m)\u001b[0m\u001b[0;34m\u001b[0m\u001b[0;34m\u001b[0m\u001b[0m\n",
      "\u001b[0;32md:\\workspace\\perso\\github\\hw\\src\\hw\\Jamshidian.py\u001b[0m in \u001b[0;36mget_coef\u001b[0;34m(swo, a, sigma, dsc_curve, estim_curve)\u001b[0m\n\u001b[1;32m     33\u001b[0m     \u001b[0mflt_adjs\u001b[0m \u001b[0;34m=\u001b[0m \u001b[0mswo\u001b[0m\u001b[0;34m.\u001b[0m\u001b[0mget_flt_adjustments\u001b[0m\u001b[0;34m(\u001b[0m\u001b[0mdsc_curve\u001b[0m\u001b[0;34m,\u001b[0m \u001b[0mestim_curve\u001b[0m\u001b[0;34m)\u001b[0m\u001b[0;34m\u001b[0m\u001b[0;34m\u001b[0m\u001b[0m\n\u001b[1;32m     34\u001b[0m \u001b[0;34m\u001b[0m\u001b[0m\n\u001b[0;32m---> 35\u001b[0;31m     \u001b[0mc0\u001b[0m \u001b[0;34m=\u001b[0m \u001b[0;34m-\u001b[0m\u001b[0m_A\u001b[0m\u001b[0;34m(\u001b[0m\u001b[0mswo\u001b[0m\u001b[0;34m.\u001b[0m\u001b[0mexpiry\u001b[0m\u001b[0;34m,\u001b[0m \u001b[0mswo\u001b[0m\u001b[0;34m.\u001b[0m\u001b[0mstart_date\u001b[0m\u001b[0;34m,\u001b[0m \u001b[0ma\u001b[0m\u001b[0;34m,\u001b[0m \u001b[0msigma\u001b[0m\u001b[0;34m,\u001b[0m \u001b[0mdsc_curve\u001b[0m\u001b[0;34m)\u001b[0m\u001b[0;34m\u001b[0m\u001b[0;34m\u001b[0m\u001b[0m\n\u001b[0m\u001b[1;32m     36\u001b[0m     c = list(map(lambda dcf, pdate, fadj: dcf * (swo.strike - fadj) * _A(swo.expiry, pdate, a, sigma, dsc_curve),\n\u001b[1;32m     37\u001b[0m                  swo.day_count_fractions, swo.payment_dates, flt_adjs))\n",
      "\u001b[0;32md:\\workspace\\perso\\github\\hw\\src\\hw\\Jamshidian.py\u001b[0m in \u001b[0;36m_A\u001b[0;34m(t, T, a, sigma, dsc_curve)\u001b[0m\n\u001b[1;32m     27\u001b[0m \u001b[0;32mdef\u001b[0m \u001b[0m_A\u001b[0m\u001b[0;34m(\u001b[0m\u001b[0mt\u001b[0m\u001b[0;34m,\u001b[0m \u001b[0mT\u001b[0m\u001b[0;34m,\u001b[0m \u001b[0ma\u001b[0m\u001b[0;34m,\u001b[0m \u001b[0msigma\u001b[0m\u001b[0;34m,\u001b[0m \u001b[0mdsc_curve\u001b[0m\u001b[0;34m)\u001b[0m\u001b[0;34m:\u001b[0m\u001b[0;34m\u001b[0m\u001b[0;34m\u001b[0m\u001b[0m\n\u001b[1;32m     28\u001b[0m     \u001b[0mfwd_dsc\u001b[0m \u001b[0;34m=\u001b[0m \u001b[0mdsc_curve\u001b[0m\u001b[0;34m.\u001b[0m\u001b[0mget_fwd_dsc\u001b[0m\u001b[0;34m(\u001b[0m\u001b[0mt\u001b[0m\u001b[0;34m,\u001b[0m \u001b[0mT\u001b[0m\u001b[0;34m)\u001b[0m\u001b[0;34m\u001b[0m\u001b[0;34m\u001b[0m\u001b[0m\n\u001b[0;32m---> 29\u001b[0;31m     \u001b[0;32mreturn\u001b[0m \u001b[0mfwd_dsc\u001b[0m \u001b[0;34m*\u001b[0m \u001b[0mexp\u001b[0m\u001b[0;34m(\u001b[0m\u001b[0;36m0.5\u001b[0m\u001b[0;34m*\u001b[0m\u001b[0;34m(\u001b[0m\u001b[0m_V\u001b[0m\u001b[0;34m(\u001b[0m\u001b[0;36m0\u001b[0m\u001b[0;34m,\u001b[0m \u001b[0mt\u001b[0m\u001b[0;34m,\u001b[0m \u001b[0mt\u001b[0m\u001b[0;34m,\u001b[0m \u001b[0ma\u001b[0m\u001b[0;34m,\u001b[0m \u001b[0msigma\u001b[0m\u001b[0;34m)\u001b[0m \u001b[0;34m-\u001b[0m \u001b[0m_V\u001b[0m\u001b[0;34m(\u001b[0m\u001b[0;36m0\u001b[0m\u001b[0;34m,\u001b[0m \u001b[0mt\u001b[0m\u001b[0;34m,\u001b[0m \u001b[0mT\u001b[0m\u001b[0;34m,\u001b[0m \u001b[0ma\u001b[0m\u001b[0;34m,\u001b[0m \u001b[0msigma\u001b[0m\u001b[0;34m)\u001b[0m\u001b[0;34m)\u001b[0m\u001b[0;34m)\u001b[0m\u001b[0;34m\u001b[0m\u001b[0;34m\u001b[0m\u001b[0m\n\u001b[0m\u001b[1;32m     30\u001b[0m \u001b[0;34m\u001b[0m\u001b[0m\n\u001b[1;32m     31\u001b[0m \u001b[0;32mdef\u001b[0m \u001b[0mget_coef\u001b[0m\u001b[0;34m(\u001b[0m\u001b[0mswo\u001b[0m\u001b[0;34m,\u001b[0m \u001b[0ma\u001b[0m\u001b[0;34m,\u001b[0m \u001b[0msigma\u001b[0m\u001b[0;34m,\u001b[0m \u001b[0mdsc_curve\u001b[0m\u001b[0;34m,\u001b[0m \u001b[0mestim_curve\u001b[0m\u001b[0;34m)\u001b[0m\u001b[0;34m:\u001b[0m\u001b[0;34m\u001b[0m\u001b[0;34m\u001b[0m\u001b[0m\n",
      "\u001b[0;31mTypeError\u001b[0m: unsupported operand type(s) for -: 'NoneType' and 'NoneType'"
     ]
    }
   ],
   "source": [
    "sigma_hw_jamsh = hw_calib.calibrate_sigma_hw(cal_basket, ref_mr, dsc_curve, estim_curve, True)\n",
    "100*sigma_hw_jamsh"
   ]
  },
  {
   "cell_type": "code",
   "execution_count": 31,
   "metadata": {},
   "outputs": [
    {
     "name": "stdout",
     "output_type": "stream",
     "text": [
      "Curve1d\n",
      "--------------------------------------------------------------------------------\n",
      "Name: 'HW model sigma'\n",
      "Pillars: array([ 0.        ,  0.99726027, 30.99726027])\n",
      "Zero-coupons: array([       nan, 0.00195392, 0.00195392])\n",
      "Interpolation: 'PieceWise'\n"
     ]
    }
   ],
   "source": [
    "sigma_hw_henr, calib_debug = hw_calib.calibrate_sigma_hw(cal_basket, ref_mr, dsc_curve, estim_curve, False)\n",
    "print(sigma_hw_henr)"
   ]
  },
  {
   "cell_type": "code",
   "execution_count": 32,
   "metadata": {},
   "outputs": [
    {
     "name": "stdout",
     "output_type": "stream",
     "text": [
      "Curve1d\n",
      "--------------------------------------------------------------------------------\n",
      "Name: ''\n",
      "Pillars: array([ 0.        ,  0.99726027, 30.99726027])\n",
      "Zero-coupons: array([0.00195985, 0.00195985, 0.00195985])\n",
      "Interpolation: 'PieceWise'\n"
     ]
    }
   ],
   "source": [
    "print(ref_sigmas)"
   ]
  },
  {
   "cell_type": "code",
   "execution_count": 22,
   "metadata": {},
   "outputs": [
    {
     "data": {
      "text/plain": [
       "-0.30219544432282647"
      ]
     },
     "execution_count": 22,
     "metadata": {},
     "output_type": "execute_result"
    }
   ],
   "source": [
    "100*(sigma_hw_henr - ref_sigma)/ref_sigma"
   ]
  },
  {
   "cell_type": "code",
   "execution_count": 39,
   "metadata": {},
   "outputs": [
    {
     "name": "stdout",
     "output_type": "stream",
     "text": [
      "fwd recon : 7.23349331821499e-14\n",
      "Annuity recon -6.128431095930864e-14\n",
      "\n",
      "***Jamshidian pricing info***\n",
      "x_star Jamshidian -1.995775631165543\n",
      "swap_value Jamshidian -4.3298697960381105e-15\n",
      "\n",
      "***Henrard pricing info***\n",
      "x_star Hernard -1.9948237621088238\n",
      "swap_value Henrard -1.1102230246251565e-16\n",
      " \n",
      "TEST Bachelier -> Black price recon -3.039773294188919e-13\n",
      " \n",
      "***Prices %***\n",
      "Jamsh price with <RefSigma>          1.3734203599531936\n",
      "Hern price with <RefSigma>           1.3708071029350788\n",
      "<BlackPrice>                         1.37069401043\n",
      "<CalibPremium>                       1.37069398165\n",
      "Jamsh price with my Jamsh sigma      1.3706940103819307\n",
      "Hern price with my hern sigma        1.3706940103995868\n",
      " \n",
      "***Calibration: sigma Hull White %***\n",
      "My calibrated Jamshidian sigma:      0.1797215337202844\n",
      "My calibrated Henrard sigma:         0.19539238377504808\n",
      "<RefSigma> (Henrard):                0.19598464043\n"
     ]
    }
   ],
   "source": [
    "print('fwd recon :', ref_swo.fwd - fwd)\n",
    "print('Annuity recon', ref_swo.annuity - calib_annuity)\n",
    "print('')\n",
    "print('***Jamshidian pricing info***')\n",
    "print('x_star Jamshidian', x_starJ)\n",
    "print('swap_value Jamshidian', jamsh.swap_value(coefJ, b_i, varx, x_starJ))\n",
    "print('')\n",
    "print('***Henrard pricing info***')\n",
    "print('x_star Hernard', x_starH)\n",
    "print('swap_value Henrard', henr.swap_value(coefH, P_i, alpha_i, x_starH))\n",
    "print(' ')\n",
    "print('TEST Bachelier -> Black price recon', black_price - ref_swo.tgt_premium )\n",
    "print(' ')\n",
    "print('***Prices %***')\n",
    "print('Jamsh price with <RefSigma>         ', 100*jamsh_price)\n",
    "print('Hern price with <RefSigma>          ', 100*henr_price)\n",
    "print('<BlackPrice>                        ', 100*ref_swo.tgt_premium)\n",
    "print('<CalibPremium>                      ', 100*ref_swo.cal_premium)\n",
    "print('Jamsh price with my Jamsh sigma     ', 100*jamsh.hw_swo(swo, ref_mr, sigma_hw_jamsh, main_curve, estim_curve))\n",
    "print('Hern price with my hern sigma       ', 100*henr.hw_swo(swo, ref_mr, sigma_hw_henr, main_curve, estim_curve))\n",
    "print(' ')\n",
    "print('***Calibration: sigma Hull White %***')\n",
    "print('My calibrated Jamshidian sigma:     ', 100*sigma_hw_jamsh)\n",
    "print('My calibrated Henrard sigma:        ', 100*sigma_hw_henr)\n",
    "print('<RefSigma> (Henrard):               ', 100*ref_sigma)"
   ]
  },
  {
   "cell_type": "markdown",
   "metadata": {},
   "source": [
    "#### ! <font color='green'>got better calibration than logs </font> !"
   ]
  },
  {
   "cell_type": "code",
   "execution_count": null,
   "metadata": {},
   "outputs": [],
   "source": [
    "fwd recon : 7.23349331821499e-14\n",
    "Annuity recon -6.128431095930864e-14\n",
    "\n",
    "***Jamshidian pricing info***\n",
    "x_star Jamshidian -1.995775631165543\n",
    "swap_value Jamshidian -4.3298697960381105e-15\n",
    "\n",
    "***Henrard pricing info***\n",
    "x_star Hernard -1.9948237621088238\n",
    "swap_value Henrard -1.1102230246251565e-16\n",
    " \n",
    "TEST Bachelier -> Black price recon -3.039773294188919e-13\n",
    " \n",
    "***Prices %***\n",
    "Jamsh price with <RefSigma>          1.3734203599531936\n",
    "Hern price with <RefSigma>           1.3708071029350788\n",
    "<BlackPrice>                         1.37069401043\n",
    "<CalibPremium>                       1.37069398165\n",
    "Jamsh price with my Jamsh sigma      1.3706940103819307\n",
    "Hern price with my hern sigma        1.3706940103995868\n",
    " \n",
    "***Calibration: sigma Hull White %***\n",
    "My calibrated Jamshidian sigma:      0.1797215337202844\n",
    "My calibrated Henrard sigma:         0.19539238377504808\n",
    "<RefSigma>:                          0.19598464043"
   ]
  }
 ],
 "metadata": {
  "kernelspec": {
   "display_name": "Python 3",
   "language": "python",
   "name": "python3"
  },
  "language_info": {
   "codemirror_mode": {
    "name": "ipython",
    "version": 3
   },
   "file_extension": ".py",
   "mimetype": "text/x-python",
   "name": "python",
   "nbconvert_exporter": "python",
   "pygments_lexer": "ipython3",
   "version": "3.7.1"
  }
 },
 "nbformat": 4,
 "nbformat_minor": 4
}
