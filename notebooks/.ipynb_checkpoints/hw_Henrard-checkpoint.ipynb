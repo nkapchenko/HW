{
 "cells": [
  {
   "cell_type": "code",
   "execution_count": null,
   "metadata": {
    "collapsed": true
   },
   "outputs": [],
   "source": [
    "\n",
    "\n"
   ]
  },
  {
   "cell_type": "code",
   "execution_count": 1,
   "metadata": {
    "collapsed": true
   },
   "outputs": [
    {
     "name": "stdout",
     "output_type": "stream",
     "text": [
      "fwd recon : -2.0889973778581705e-14\nAnnuity recon 1.3322676295501878e-14\nx_star -1.476593170680665\nswap_value -2.220446049250313e-16\n***Prices***\nmy HW price 208.125905404255\nmy numerical HW price 208.12590164428295\nout put price 208.6580989 with recon 5.321934957449811e-07\n0.2557074741422846 % difference\n"
     ]
    }
   ],
   "source": [
    "import numpy as np\n",
    "from numpy import exp\n",
    "import script.Henrard as hw     \n",
    "from script.const import *\n",
    "from script.fox_toolbox.utils import xml_parser as log\n",
    "from scipy.stats import norm\n",
    "from numpy import exp, sqrt\n",
    "from importlib import reload\n",
    "\n",
    "multi = True\n",
    "\n",
    "if multi:\n",
    "    INPUT_LOG = 'FORM_MULTI.xml'\n",
    "    OUT_LOG = 'OUT_MULTI.xml'\n",
    "else:\n",
    "    INPUT_LOG = 'FORM.xml'\n",
    "    OUT_LOG = 'OUT.xml'\n",
    "\n",
    "\n",
    "#### Read IRSM FORM\n",
    "_, irsmform = log.get_xml(INPUT_LOG)\n",
    "dsc_curve, sprds = log.get_curves(irsmform)\n",
    "\n",
    "try:\n",
    "    estim_curve = sprds[0]\n",
    "except TypeError:\n",
    "    estim_curve = dsc_curve\n",
    "\n",
    "swos = list(log.get_calib_basket(irsmform))\n",
    "swo = swos[0]\n",
    "\n",
    "#### END READ IRSM FORM\n",
    "\n",
    "expiry = swo.expiry\n",
    "start_date = swo.start_date\n",
    "\n",
    "fwd = swo.get_swap_rate(dsc_curve, estim_curve)\n",
    "flt_adjs = swo.get_flt_adjustments(dsc_curve, estim_curve)\n",
    "\n",
    "#### READ IRSM OUT\n",
    "_, irsmout = log.get_xml(OUT_LOG)\n",
    "ref_swo = list(log.get_calib_basket(irsmout))[0]\n",
    "\n",
    "\n",
    "ref_swos = list(log.get_calib_basket(irsmout))\n",
    "# ref_swo = ref_swos[0]\n",
    "\n",
    "ref_mr, (buckets, hw_sigma) = log.get_hw_params(irsmout)\n",
    "\n",
    "sigma = hw_sigma[0]\n",
    "\n",
    "#### END READ IRSM OUT\n",
    "\n",
    "\n",
    "\n",
    "#### MAIN HW\n",
    "\n",
    "hw_dates = np.insert(swo.payment_dates, 0, start_date)\n",
    "\n",
    "coef = hw.get_coef(swo.dcfs, swo.strike, flt_adjs)\n",
    "P_i = hw.get_P_i(dsc_curve, start_date, swo.payment_dates)\n",
    "alpha_i = hw.get_alpha_i(ref_mr, expiry, sigma, hw_dates)\n",
    "hw_alphas = hw.get_hw_alphas(sigma, ref_mr, expiry, hw_dates)\n",
    "\n",
    "x_star = hw.get_x_star(coef, P_i, alpha_i)\n",
    "\n",
    "price = hw.hw_swo_analytic(coef, P_i, alpha_i, x_star, IsCall=False) \n",
    "\n",
    "print('fwd recon :', ref_swo.fwd - fwd)\n",
    "print('Annuity recon', ref_swo.annuity - swo.get_annuity(dsc_curve))\n",
    "print('x_star', x_star)\n",
    "print('swap_value', hw.swap_value(coef, P_i, alpha_i, x_star))\n",
    "print('***Prices***')\n",
    "print('my HW price', 1000000*price)\n",
    "print('my numerical HW price', 1000000*hw.hw_swo_numeric(coef, P_i, alpha_i, IsCall=False))\n",
    "print('out put price', 1000000*ref_swo.tgt_premium ,'with recon', ref_swo.tgt_premium - price )\n",
    "print(100*(ref_swo.tgt_premium - price)/price, '% difference' )\n",
    "\n"
   ]
  },
  {
   "cell_type": "code",
   "execution_count": 5,
   "metadata": {
    "collapsed": true
   },
   "outputs": [
    {
     "data": {
      "text/plain": [
       "array([1.01106216e-05, 5.05254192e-05, 1.85773023e-03, 3.56262461e-03,\n       5.18893797e-03, 6.73593510e-03])"
      ]
     },
     "execution_count": 6,
     "metadata": {},
     "output_type": "execute_result"
    }
   ],
   "source": [
    ""
   ]
  },
  {
   "cell_type": "code",
   "execution_count": 6,
   "metadata": {
    "collapsed": true
   },
   "outputs": [
    {
     "data": {
      "text/plain": [
       "array([1.01106216e-05, 5.05254192e-05, 1.85773023e-03, 3.56262461e-03,\n       5.18893797e-03, 6.73593510e-03])"
      ]
     },
     "execution_count": 6,
     "metadata": {},
     "output_type": "execute_result"
    }
   ],
   "source": [
    ""
   ]
  },
  {
   "cell_type": "code",
   "execution_count": 7,
   "metadata": {},
   "outputs": [],
   "source": [
    ""
   ]
  }
 ],
 "metadata": {
  "kernelspec": {
   "display_name": "Python 2",
   "language": "python",
   "name": "python2"
  },
  "language_info": {
   "codemirror_mode": {
    "name": "ipython",
    "version": 2
   },
   "file_extension": ".py",
   "mimetype": "text/x-python",
   "name": "python",
   "nbconvert_exporter": "python",
   "pygments_lexer": "ipython2",
   "version": "2.7.6"
  }
 },
 "nbformat": 4,
 "nbformat_minor": 0
}
