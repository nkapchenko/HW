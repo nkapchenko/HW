{
 "cells": [
  {
   "cell_type": "code",
   "execution_count": 1,
   "metadata": {},
   "outputs": [],
   "source": [
    "import pandas as pd\n",
    "from numpy import array, median\n",
    "from hw import Jamshidian as jamsh\n",
    "from hw import Henrard as henr\n",
    "from hw import calibration as hw_calib\n",
    "from hw.const import *\n",
    "from fox_toolbox.utils import xml_parser, rates\n",
    "from random import choice\n",
    "import matplotlib.pyplot as plt\n",
    "\n",
    "%load_ext autoreload\n",
    "%autoreload 2"
   ]
  },
  {
   "cell_type": "markdown",
   "metadata": {},
   "source": [
    "### Read IRSM FORM"
   ]
  },
  {
   "cell_type": "code",
   "execution_count": 2,
   "metadata": {},
   "outputs": [],
   "source": [
    "main_curve, sprds = xml_parser.get_rate_curves(INPUT_5SWO)\n",
    "dsc_curve = main_curve\n",
    "\n",
    "try:\n",
    "    estim_curve = sprds[0]\n",
    "except TypeError:\n",
    "    estim_curve = main_curve\n",
    "\n",
    "cal_basket = list(xml_parser.get_calib_basket(INPUT_5SWO))"
   ]
  },
  {
   "cell_type": "markdown",
   "metadata": {},
   "source": [
    "### READ IRSM OUT"
   ]
  },
  {
   "cell_type": "code",
   "execution_count": 3,
   "metadata": {},
   "outputs": [],
   "source": [
    "_, irsmout = xml_parser.get_xml(OUTPUT_5SWO)\n",
    "ref_swos = list(xml_parser.get_calib_basket(irsmout))\n",
    "\n",
    "ref_mr, (hw_buckets, hw_sigma) = xml_parser.get_hw_params(irsmout)\n",
    "\n",
    "ref_sigmas = rates.Curve(hw_buckets, hw_sigma, 'PieceWise')"
   ]
  },
  {
   "cell_type": "markdown",
   "metadata": {},
   "source": [
    "### Jamshidian pricer with ref sigma (Hernard)"
   ]
  },
  {
   "cell_type": "code",
   "execution_count": 4,
   "metadata": {},
   "outputs": [
    {
     "data": {
      "text/plain": [
       "[0.01495868953561849,\n",
       " 0.01737786269274577,\n",
       " 0.015547612922245269,\n",
       " 0.010250494035586644]"
      ]
     },
     "execution_count": 4,
     "metadata": {},
     "output_type": "execute_result"
    }
   ],
   "source": [
    "calib_premiumsJ = []\n",
    "debug_df = pd.DataFrame()\n",
    "\n",
    "for swo in cal_basket:\n",
    "      \n",
    "    jamsh_price, debug = jamsh.hw_swo(swo, ref_mr, ref_sigmas, dsc_curve, estim_curve)\n",
    "    debug_df = pd.concat([debug_df, pd.DataFrame(data=debug)], sort=False)\n",
    "    calib_premiumsJ.append(jamsh_price)\n",
    "    \n",
    "calib_premiumsJ"
   ]
  },
  {
   "cell_type": "markdown",
   "metadata": {},
   "source": [
    "## Hernard pricer with its ref sigma"
   ]
  },
  {
   "cell_type": "code",
   "execution_count": 5,
   "metadata": {},
   "outputs": [
    {
     "data": {
      "text/plain": [
       "[0.01493072285045029,\n",
       " 0.017218357816201957,\n",
       " 0.015144105523752116,\n",
       " 0.009647051056191125]"
      ]
     },
     "execution_count": 5,
     "metadata": {},
     "output_type": "execute_result"
    }
   ],
   "source": [
    "calib_premiumsH = []\n",
    "\n",
    "for swo in cal_basket:\n",
    "      \n",
    "    henr_price, debug = henr.hw_swo(swo, ref_mr, ref_sigmas, dsc_curve, estim_curve)\n",
    "    debug_df = pd.concat([debug_df, pd.DataFrame(data=debug)], sort=False)\n",
    "    calib_premiumsH.append(henr_price)\n",
    "    \n",
    "calib_premiumsH"
   ]
  },
  {
   "cell_type": "code",
   "execution_count": 7,
   "metadata": {},
   "outputs": [
    {
     "data": {
      "text/html": [
       "<div>\n",
       "<style scoped>\n",
       "    .dataframe tbody tr th:only-of-type {\n",
       "        vertical-align: middle;\n",
       "    }\n",
       "\n",
       "    .dataframe tbody tr th {\n",
       "        vertical-align: top;\n",
       "    }\n",
       "\n",
       "    .dataframe thead th {\n",
       "        text-align: right;\n",
       "    }\n",
       "</style>\n",
       "<table border=\"1\" class=\"dataframe\">\n",
       "  <thead>\n",
       "    <tr style=\"text-align: right;\">\n",
       "      <th>Expiry</th>\n",
       "      <th>0.9972602739726</th>\n",
       "      <th>2.0</th>\n",
       "      <th>2.9972602739726</th>\n",
       "      <th>3.9972602739726</th>\n",
       "    </tr>\n",
       "  </thead>\n",
       "  <tbody>\n",
       "    <tr>\n",
       "      <th>total_var</th>\n",
       "      <td>0.000004</td>\n",
       "      <td>0.00002</td>\n",
       "      <td>0.000051</td>\n",
       "      <td>0.000126</td>\n",
       "    </tr>\n",
       "  </tbody>\n",
       "</table>\n",
       "</div>"
      ],
      "text/plain": [
       "Expiry      0.99726  2.00000   2.99726   3.99726\n",
       "total_var  0.000004  0.00002  0.000051  0.000126"
      ]
     },
     "execution_count": 7,
     "metadata": {},
     "output_type": "execute_result"
    }
   ],
   "source": [
    "pd.pivot_table(debug_df, values=['total_var'], index=['Expiry'], columns=[], aggfunc=median).T"
   ]
  },
  {
   "cell_type": "markdown",
   "metadata": {},
   "source": [
    "## HW Calibration"
   ]
  },
  {
   "cell_type": "code",
   "execution_count": 8,
   "metadata": {},
   "outputs": [
    {
     "data": {
      "text/plain": [
       "Curve(array([ 0.        ,  0.99726027,  2.        ,  2.99726027,  3.99726027,\n",
       "       33.99726027]), array([       nan, 0.00165585, 0.00327064, 0.00394561, 0.00540789,\n",
       "       0.00540789]), PieceWise, 'HW model sigma')"
      ]
     },
     "execution_count": 8,
     "metadata": {},
     "output_type": "execute_result"
    }
   ],
   "source": [
    "sigma_hw_jamsh, debug_J = hw_calib.calibrate_sigma_hw(cal_basket, ref_mr, dsc_curve, estim_curve, IsJamsh=True)\n",
    "sigma_hw_jamsh"
   ]
  },
  {
   "cell_type": "code",
   "execution_count": 9,
   "metadata": {},
   "outputs": [
    {
     "data": {
      "text/plain": [
       "Curve(array([ 0.        ,  0.99726027,  2.        ,  2.99726027,  3.99726027,\n",
       "       33.99726027]), array([       nan, 0.00195427, 0.00366332, 0.00496463, 0.00726417,\n",
       "       0.00726417]), PieceWise, 'HW model sigma')"
      ]
     },
     "execution_count": 9,
     "metadata": {},
     "output_type": "execute_result"
    }
   ],
   "source": [
    "sigma_hw_henr, debug_H = hw_calib.calibrate_sigma_hw(cal_basket, ref_mr, dsc_curve, estim_curve, IsJamsh=False)\n",
    "sigma_hw_henr"
   ]
  },
  {
   "cell_type": "code",
   "execution_count": 10,
   "metadata": {},
   "outputs": [
    {
     "data": {
      "text/plain": [
       "<matplotlib.legend.Legend at 0x1e60b27fd30>"
      ]
     },
     "execution_count": 10,
     "metadata": {},
     "output_type": "execute_result"
    },
    {
     "data": {
      "text/plain": [
       "<Figure size 432x288 with 0 Axes>"
      ]
     },
     "metadata": {},
     "output_type": "display_data"
    },
    {
     "data": {
      "image/png": "[encoded data removed]",
      "text/plain": [
       "<Figure size 1440x720 with 1 Axes>"
      ]
     },
     "metadata": {
      "needs_background": "light"
     },
     "output_type": "display_data"
    }
   ],
   "source": [
    "fig = plt.figure()\n",
    "plt.figure(figsize=(20,10))\n",
    "\n",
    "# plt.step(sigma_hw_jamsh.buckets, sigma_hw_jamsh.values, label = 'Jamshidian', marker='o', where='post')\n",
    "plt.step(sigma_hw_henr.buckets, sigma_hw_henr.values, label = 'Henrard', marker='o', where='post')\n",
    "plt.step(ref_sigmas.buckets, ref_sigmas.values, label = 'Ref logs (Henrard)', marker='o', where='post')\n",
    "\n",
    "plt.legend(loc='lower right')"
   ]
  },
  {
   "cell_type": "code",
   "execution_count": 11,
   "metadata": {},
   "outputs": [],
   "source": [
    "pricesH = []\n",
    "for swo in cal_basket:\n",
    "    henr_price, debug = henr.hw_swo(swo, ref_mr, sigma_hw_henr, dsc_curve, estim_curve)\n",
    "    pricesH.append(henr_price)"
   ]
  },
  {
   "cell_type": "code",
   "execution_count": 12,
   "metadata": {},
   "outputs": [],
   "source": [
    "pricesJ = []\n",
    "for swo in cal_basket:\n",
    "    jamsh_price, debug = jamsh.hw_swo(swo, ref_mr, sigma_hw_jamsh, dsc_curve, estim_curve)\n",
    "    pricesJ.append(jamsh_price)"
   ]
  },
  {
   "cell_type": "code",
   "execution_count": 17,
   "metadata": {},
   "outputs": [
    {
     "data": {
      "text/plain": [
       "<matplotlib.legend.Legend at 0x1e60bd094e0>"
      ]
     },
     "execution_count": 17,
     "metadata": {},
     "output_type": "execute_result"
    },
    {
     "data": {
      "text/plain": [
       "<Figure size 432x288 with 0 Axes>"
      ]
     },
     "metadata": {},
     "output_type": "display_data"
    },
    {
     "data": {
      "image/png": "[encoded data removed]",
      "text/plain": [
       "<Figure size 1440x720 with 1 Axes>"
      ]
     },
     "metadata": {
      "needs_background": "light"
     },
     "output_type": "display_data"
    }
   ],
   "source": [
    "fig = plt.figure()\n",
    "plt.figure(figsize=(20,10))\n",
    "\n",
    "ref_calib_prices = [ref_swo.cal_premium for ref_swo in ref_swos]\n",
    "black_prices = pd.DataFrame(data=debug_H).black_price\n",
    "\n",
    "prices_dict = { 'Jamshidian (calibrated sigma)': array(pricesJ),\n",
    "               \n",
    "               'Henrard (calibrated sigma)':array(pricesH),\n",
    "               'Henrard(<RefSigma>)': array(calib_premiumsH),\n",
    "               \n",
    "               '<CalibratedPrice>': array(ref_calib_prices),        \n",
    "#                'Black': array(black_prices)\n",
    "              }\n",
    "              \n",
    "for lbl, prices in prices_dict.items():\n",
    "    plt.plot([swo.expiry for swo in cal_basket], prices - black_prices,  label = lbl, linestyle=choice([':', '--', '-.']), marker = 'o')\n",
    "\n",
    "plt.title('Black difference ')\n",
    "plt.legend(loc='lower right')"
   ]
  },
  {
   "cell_type": "code",
   "execution_count": 18,
   "metadata": {},
   "outputs": [
    {
     "data": {
      "text/plain": [
       "array([-1.87581124e-10, -4.05090027e-10, -1.71167913e-10, -9.00259901e-12])"
      ]
     },
     "execution_count": 18,
     "metadata": {},
     "output_type": "execute_result"
    }
   ],
   "source": [
    "array(ref_calib_prices) - array(pricesH)"
   ]
  },
  {
   "cell_type": "code",
   "execution_count": null,
   "metadata": {},
   "outputs": [],
   "source": []
  }
 ],
 "metadata": {
  "kernelspec": {
   "display_name": "Python 3",
   "language": "python",
   "name": "python3"
  },
  "language_info": {
   "codemirror_mode": {
    "name": "ipython",
    "version": 3
   },
   "file_extension": ".py",
   "mimetype": "text/x-python",
   "name": "python",
   "nbconvert_exporter": "python",
   "pygments_lexer": "ipython3",
   "version": "3.7.1"
  }
 },
 "nbformat": 4,
 "nbformat_minor": 4
}
