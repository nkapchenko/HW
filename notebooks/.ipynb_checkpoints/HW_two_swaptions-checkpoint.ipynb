{
 "cells": [
  {
   "cell_type": "code",
   "execution_count": 9,
   "metadata": {},
   "outputs": [
    {
     "name": "stdout",
     "output_type": "stream",
     "text": [
      "The autoreload extension is already loaded. To reload it, use:\n",
      "  %reload_ext autoreload\n"
     ]
    }
   ],
   "source": [
    "import numpy as np\n",
    "from numpy import exp\n",
    "from hw import Jamshidian as jamsh\n",
    "from hw import Henrard as henr\n",
    "from hw import calibration as hw_calib\n",
    "import hw.calibration as calib\n",
    "from hw.const import *\n",
    "from fox_toolbox.utils import xml_parser as log\n",
    "from scipy.stats import norm\n",
    "import scipy.integrate as integrate\n",
    "from numpy import exp, sqrt\n",
    "from scipy.stats import norm\n",
    "from fox_toolbox.utils import volatility as vols\n",
    "\n",
    "%load_ext autoreload\n",
    "%autoreload 2"
   ]
  },
  {
   "cell_type": "markdown",
   "metadata": {},
   "source": [
    "### Read IRSM FORM"
   ]
  },
  {
   "cell_type": "code",
   "execution_count": 3,
   "metadata": {},
   "outputs": [],
   "source": [
    "_, irsmform = log.get_xml(INPUT_2SWO)\n",
    "main_curve, sprds = log.get_curves(irsmform)\n",
    "dsc_curve = main_curve\n",
    "\n",
    "try:\n",
    "    estim_curve = sprds[0]\n",
    "except TypeError:\n",
    "    estim_curve = main_curve\n",
    "\n",
    "cal_basket = list(log.get_calib_basket(irsmform))"
   ]
  },
  {
   "cell_type": "code",
   "execution_count": 10,
   "metadata": {},
   "outputs": [],
   "source": [
    "def delta_one (cal_basket):\n",
    "    for swo in cal_basket:\n",
    "        fwd = swo.get_swap_rate(main_curve, estim_curve)\n",
    "        flt_adjs = swo.get_flt_adjustments(main_curve, estim_curve)\n",
    "        calib_annuity = swo.get_annuity(main_curve)\n",
    "        yield fwd, flt_adjs, calib_annuity\n",
    "        \n",
    "swo1, swo2 = list(delta_one(cal_basket))"
   ]
  },
  {
   "cell_type": "code",
   "execution_count": 13,
   "metadata": {},
   "outputs": [
    {
     "data": {
      "text/plain": [
       "(0.003691106445027665,\n",
       " array([-0.00299998,  0.00019777,  0.00346821,  0.00673446]),\n",
       " 4.035163414390461)"
      ]
     },
     "execution_count": 13,
     "metadata": {},
     "output_type": "execute_result"
    }
   ],
   "source": [
    "swo1"
   ]
  },
  {
   "cell_type": "code",
   "execution_count": 14,
   "metadata": {},
   "outputs": [
    {
     "data": {
      "text/plain": [
       "(0.005604875159672455,\n",
       " array([0.00019777, 0.00346821, 0.00673446]),\n",
       " 3.0182500819239797)"
      ]
     },
     "execution_count": 14,
     "metadata": {},
     "output_type": "execute_result"
    }
   ],
   "source": [
    "swo2"
   ]
  },
  {
   "cell_type": "markdown",
   "metadata": {},
   "source": [
    "### READ IRSM OUT"
   ]
  },
  {
   "cell_type": "code",
   "execution_count": 21,
   "metadata": {},
   "outputs": [],
   "source": [
    "_, irsmout = log.get_xml(OUTPUT_2SWO)\n",
    "ref_swos = list(log.get_calib_basket(irsmout))\n",
    "\n",
    "ref_mr, (buckets, hw_sigma) = log.get_hw_params(irsmout)\n",
    "\n",
    "ref_sigmas = hw_sigma[1:-1]"
   ]
  },
  {
   "cell_type": "markdown",
   "metadata": {},
   "source": [
    "### MAIN HW (Jamshidian)"
   ]
  },
  {
   "cell_type": "code",
   "execution_count": 22,
   "metadata": {},
   "outputs": [],
   "source": [
    "swo = cal_basket[0]"
   ]
  },
  {
   "cell_type": "code",
   "execution_count": 23,
   "metadata": {},
   "outputs": [
    {
     "ename": "NameError",
     "evalue": "name 'flt_adjs' is not defined",
     "output_type": "error",
     "traceback": [
      "\u001b[0;31m---------------------------------------------------------------------------\u001b[0m",
      "\u001b[0;31mNameError\u001b[0m                                 Traceback (most recent call last)",
      "\u001b[0;32m<ipython-input-23-9464b03656c2>\u001b[0m in \u001b[0;36m<module>\u001b[0;34m()\u001b[0m\n\u001b[0;32m----> 1\u001b[0;31m \u001b[0mcoefJ\u001b[0m \u001b[0;34m=\u001b[0m \u001b[0mjamsh\u001b[0m\u001b[0;34m.\u001b[0m\u001b[0mget_coef\u001b[0m\u001b[0;34m(\u001b[0m\u001b[0mswo\u001b[0m\u001b[0;34m,\u001b[0m \u001b[0mref_mr\u001b[0m\u001b[0;34m,\u001b[0m \u001b[0mref_sigma\u001b[0m\u001b[0;34m,\u001b[0m \u001b[0mmain_curve\u001b[0m\u001b[0;34m,\u001b[0m \u001b[0mflt_adjs\u001b[0m\u001b[0;34m)\u001b[0m\u001b[0;34m\u001b[0m\u001b[0;34m\u001b[0m\u001b[0m\n\u001b[0m\u001b[1;32m      2\u001b[0m \u001b[0mb_i\u001b[0m \u001b[0;34m=\u001b[0m \u001b[0mjamsh\u001b[0m\u001b[0;34m.\u001b[0m\u001b[0mget_b_i\u001b[0m\u001b[0;34m(\u001b[0m\u001b[0mswo\u001b[0m\u001b[0;34m,\u001b[0m \u001b[0mref_mr\u001b[0m\u001b[0;34m)\u001b[0m\u001b[0;34m\u001b[0m\u001b[0;34m\u001b[0m\u001b[0m\n\u001b[1;32m      3\u001b[0m \u001b[0mvarx\u001b[0m \u001b[0;34m=\u001b[0m \u001b[0mjamsh\u001b[0m\u001b[0;34m.\u001b[0m\u001b[0mvar_x\u001b[0m\u001b[0;34m(\u001b[0m\u001b[0mswo\u001b[0m\u001b[0;34m.\u001b[0m\u001b[0mexpiry\u001b[0m\u001b[0;34m,\u001b[0m \u001b[0mref_mr\u001b[0m\u001b[0;34m,\u001b[0m \u001b[0mref_sigma\u001b[0m\u001b[0;34m)\u001b[0m\u001b[0;34m\u001b[0m\u001b[0;34m\u001b[0m\u001b[0m\n\u001b[1;32m      4\u001b[0m \u001b[0;34m\u001b[0m\u001b[0m\n\u001b[1;32m      5\u001b[0m \u001b[0mx_starJ\u001b[0m \u001b[0;34m=\u001b[0m \u001b[0mjamsh\u001b[0m\u001b[0;34m.\u001b[0m\u001b[0mget_x_star\u001b[0m\u001b[0;34m(\u001b[0m\u001b[0mcoefJ\u001b[0m\u001b[0;34m,\u001b[0m \u001b[0mb_i\u001b[0m\u001b[0;34m,\u001b[0m \u001b[0mvarx\u001b[0m\u001b[0;34m)\u001b[0m\u001b[0;34m\u001b[0m\u001b[0;34m\u001b[0m\u001b[0m\n",
      "\u001b[0;31mNameError\u001b[0m: name 'flt_adjs' is not defined"
     ]
    }
   ],
   "source": [
    "coefJ = jamsh.get_coef(swo, ref_mr, ref_sigma, main_curve, estim_curve)\n",
    "b_i = jamsh.get_b_i(swo, ref_mr)\n",
    "varx = jamsh.var_x(swo.expiry, ref_mr, ref_sigma)\n",
    "\n",
    "x_starJ = jamsh.get_x_star(coefJ, b_i, varx)\n",
    "\n",
    "jamsh_price = jamsh.hw_swo(swo, ref_mr, ref_sigma, main_curve, estim_curve) #* main_curve.get_dsc(swo.expiry)\n",
    "jamsh_price"
   ]
  },
  {
   "cell_type": "code",
   "execution_count": null,
   "metadata": {},
   "outputs": [],
   "source": [
    "swo = cal_basket[1]"
   ]
  },
  {
   "cell_type": "code",
   "execution_count": null,
   "metadata": {},
   "outputs": [],
   "source": [
    "coefJ = jamsh.get_coef(swo, ref_mr, ref_sigma, main_curve, flt_adjs)\n",
    "b_i = jamsh.get_b_i(swo, ref_mr)\n",
    "varx = jamsh.var_x(swo.expiry, ref_mr, ref_sigma)\n",
    "\n",
    "x_starJ = jamsh.get_x_star(coefJ, b_i, varx)\n",
    "\n",
    "jamsh_price = jamsh.hw_swo(swo, ref_mr, ref_sigma, main_curve, estim_curve) #* main_curve.get_dsc(swo.expiry)\n",
    "jamsh_price"
   ]
  },
  {
   "cell_type": "code",
   "execution_count": 7,
   "metadata": {},
   "outputs": [
    {
     "data": {
      "text/plain": [
       "0.1989028552286596"
      ]
     },
     "execution_count": 7,
     "metadata": {},
     "output_type": "execute_result"
    }
   ],
   "source": [
    "100*(jamsh_price- ref_swo.tgt_premium)/ref_swo.tgt_premium"
   ]
  },
  {
   "cell_type": "markdown",
   "metadata": {},
   "source": [
    "## MAIN HW (Hernard)"
   ]
  },
  {
   "cell_type": "code",
   "execution_count": 8,
   "metadata": {},
   "outputs": [
    {
     "data": {
      "text/plain": [
       "0.013708071029350788"
      ]
     },
     "execution_count": 8,
     "metadata": {},
     "output_type": "execute_result"
    }
   ],
   "source": [
    "start_date = swo.start_date\n",
    "\n",
    "hw_dates = np.insert(swo.payment_dates, 0, start_date)\n",
    "\n",
    "coefH = henr.get_coef(swo.day_count_fractions, swo.strike, flt_adjs)\n",
    "P_i = henr.get_P_i(dsc_curve, start_date, swo.payment_dates)\n",
    "alpha_i = henr.get_alpha_i(ref_mr, swo.expiry, ref_sigma, hw_dates)\n",
    "\n",
    "x_starH = henr.get_x_star(coefH, P_i, alpha_i)\n",
    "\n",
    "henr_price = henr.hw_swo(swo, ref_mr, ref_sigma, dsc_curve, estim_curve)\n",
    "henr_price"
   ]
  },
  {
   "cell_type": "code",
   "execution_count": 9,
   "metadata": {},
   "outputs": [
    {
     "data": {
      "text/plain": [
       "0.008250747739337915"
      ]
     },
     "execution_count": 9,
     "metadata": {},
     "output_type": "execute_result"
    }
   ],
   "source": [
    "100*(henr_price- ref_swo.tgt_premium)/ref_swo.tgt_premium"
   ]
  },
  {
   "cell_type": "markdown",
   "metadata": {},
   "source": [
    "### Bachelier price from market info"
   ]
  },
  {
   "cell_type": "code",
   "execution_count": 10,
   "metadata": {},
   "outputs": [
    {
     "data": {
      "text/plain": [
       "0.013706940103996023"
      ]
     },
     "execution_count": 10,
     "metadata": {},
     "output_type": "execute_result"
    }
   ],
   "source": [
    "w = -1.0 if swo.pay_rec == 'Receiver' else 1.0\n",
    "\n",
    "black_price = calib_annuity * vols.BachelierPrice(fwd, swo.strike, swo.vol.value * np.sqrt(swo.expiry), w=w)\n",
    "black_price"
   ]
  },
  {
   "cell_type": "markdown",
   "metadata": {},
   "source": [
    "## HW Calibration"
   ]
  },
  {
   "cell_type": "code",
   "execution_count": 11,
   "metadata": {},
   "outputs": [
    {
     "data": {
      "text/plain": [
       "0.19598464043"
      ]
     },
     "execution_count": 11,
     "metadata": {},
     "output_type": "execute_result"
    }
   ],
   "source": [
    "100*ref_sigma"
   ]
  },
  {
   "cell_type": "code",
   "execution_count": 12,
   "metadata": {},
   "outputs": [
    {
     "name": "stdout",
     "output_type": "stream",
     "text": [
      "0.013706940103996023\n"
     ]
    },
    {
     "data": {
      "text/plain": [
       "0.1797215337202844"
      ]
     },
     "execution_count": 12,
     "metadata": {},
     "output_type": "execute_result"
    }
   ],
   "source": [
    "sigma_hw_jamsh = hw_calib.calibrate_sigma_hw(cal_basket, ref_mr, dsc_curve, estim_curve, True)\n",
    "100*sigma_hw_jamsh"
   ]
  },
  {
   "cell_type": "code",
   "execution_count": 13,
   "metadata": {},
   "outputs": [
    {
     "data": {
      "text/plain": [
       "-8.298153709409851"
      ]
     },
     "execution_count": 13,
     "metadata": {},
     "output_type": "execute_result"
    }
   ],
   "source": [
    "100*(sigma_hw_jamsh - ref_sigma)/ref_sigma"
   ]
  },
  {
   "cell_type": "code",
   "execution_count": 14,
   "metadata": {},
   "outputs": [
    {
     "name": "stdout",
     "output_type": "stream",
     "text": [
      "0.013706940103996023\n"
     ]
    },
    {
     "data": {
      "text/plain": [
       "0.19539238377504808"
      ]
     },
     "execution_count": 14,
     "metadata": {},
     "output_type": "execute_result"
    }
   ],
   "source": [
    "sigma_hw_henr = hw_calib.calibrate_sigma_hw(cal_basket, ref_mr, dsc_curve, estim_curve, False)\n",
    "100*sigma_hw_henr"
   ]
  },
  {
   "cell_type": "code",
   "execution_count": 15,
   "metadata": {},
   "outputs": [
    {
     "data": {
      "text/plain": [
       "-0.30219544432282647"
      ]
     },
     "execution_count": 15,
     "metadata": {},
     "output_type": "execute_result"
    }
   ],
   "source": [
    "100*(sigma_hw_henr - ref_sigma)/ref_sigma"
   ]
  },
  {
   "cell_type": "code",
   "execution_count": 16,
   "metadata": {},
   "outputs": [
    {
     "name": "stdout",
     "output_type": "stream",
     "text": [
      "fwd recon : 7.23349331821499e-14\n",
      "Annuity recon -6.128431095930864e-14\n",
      "\n",
      "***Jamshidian pricing info***\n",
      "x_star Jamshidian -1.995775631165543\n",
      "swap_value Jamshidian -4.3298697960381105e-15\n",
      "\n",
      "***Henrard pricing info***\n",
      "x_star Hernard -1.9948237621088238\n",
      "swap_value Henrard -1.1102230246251565e-16\n",
      " \n",
      "TEST Bachelier -> Black price recon -3.039773294188919e-13\n",
      " \n",
      "***Prices %***\n",
      "TEST Jamsh hw_swo  1.3734203599531936\n",
      "TEST Henr hw_swo   1.3708071029350788\n",
      "out put price      1.37069401043\n",
      " \n",
      "***Calibration: sigma Hull White %***\n",
      "TEST hw_calib Jamshidian:      0.1797215337202844\n",
      "TEST hw_calib Henrard:         0.19539238377504808\n",
      "out put reference sigma:       0.19598464043\n"
     ]
    }
   ],
   "source": [
    "print('fwd recon :', ref_swo.fwd - fwd)\n",
    "print('Annuity recon', ref_swo.annuity - calib_annuity)\n",
    "print('')\n",
    "print('***Jamshidian pricing info***')\n",
    "print('x_star Jamshidian', x_starJ)\n",
    "print('swap_value Jamshidian', jamsh.swap_value(coefJ, b_i, varx, x_starJ))\n",
    "print('')\n",
    "print('***Henrard pricing info***')\n",
    "print('x_star Hernard', x_starH)\n",
    "print('swap_value Henrard', henr.swap_value(coefH, P_i, alpha_i, x_starH))\n",
    "print(' ')\n",
    "print('TEST Bachelier -> Black price recon', black_price - ref_swo.tgt_premium )\n",
    "print(' ')\n",
    "print('***Prices %***')\n",
    "print('TEST Jamsh hw_swo ', 100*jamsh_price)\n",
    "print('TEST Henr hw_swo  ', 100*henr_price)\n",
    "print('out put price     ', 100*ref_swo.tgt_premium)\n",
    "print(' ')\n",
    "print('***Calibration: sigma Hull White %***')\n",
    "print('TEST hw_calib Jamshidian:     ', 100*sigma_hw_jamsh)\n",
    "print('TEST hw_calib Henrard:        ', 100*sigma_hw_henr)\n",
    "print('out put reference sigma:      ', 100*ref_sigma)"
   ]
  }
 ],
 "metadata": {
  "kernelspec": {
   "display_name": "Python 3",
   "language": "python",
   "name": "python3"
  },
  "language_info": {
   "codemirror_mode": {
    "name": "ipython",
    "version": 3
   },
   "file_extension": ".py",
   "mimetype": "text/x-python",
   "name": "python",
   "nbconvert_exporter": "python",
   "pygments_lexer": "ipython3",
   "version": "3.7.1"
  }
 },
 "nbformat": 4,
 "nbformat_minor": 4
}
