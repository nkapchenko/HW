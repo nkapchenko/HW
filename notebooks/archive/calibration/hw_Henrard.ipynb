{
 "cells": [
  {
   "cell_type": "code",
   "execution_count": 3,
   "metadata": {},
   "outputs": [],
   "source": [
    "\n",
    "import numpy as np\n",
    "from numpy import exp\n",
    "import hw.Henrard as hw     \n",
    "from hw.const import INPUT_LOG, OUT_LOG\n",
    "from fox_toolbox.utils import xml_parser as log\n",
    "from scipy.stats import norm\n",
    "from numpy import exp, sqrt\n",
    "from importlib import reload\n"
   ]
  },
  {
   "cell_type": "code",
   "execution_count": 6,
   "metadata": {},
   "outputs": [
    {
     "name": "stdout",
     "output_type": "stream",
     "text": [
      "fwd recon : 7.233536686301889e-14\n",
      "Annuity recon -6.128431095930864e-14\n",
      "x_star -1.9948237621088238\n",
      "swap_value -1.1102230246251565e-16\n",
      "***Prices***\n",
      "my HW price 13688.303593235514\n",
      "my numerical HW price 59.556967868699765\n",
      "out put price 13706.9401043 with recon 1.8636511064486563e-05\n",
      "0.13614916514341743 % difference\n"
     ]
    }
   ],
   "source": [
    "\n",
    "\n",
    "\n",
    "#### Read IRSM FORM\n",
    "_, irsmform = log.get_xml(INPUT_LOG)\n",
    "dsc_curve, sprds = log.get_curves(irsmform)\n",
    "\n",
    "try:\n",
    "    estim_curve = sprds[0]\n",
    "except TypeError:\n",
    "    estim_curve = dsc_curve\n",
    "\n",
    "swos = list(log.get_calib_basket(irsmform))\n",
    "swo = swos[0]\n",
    "\n",
    "#### END READ IRSM FORM\n",
    "\n",
    "expiry = swo.expiry\n",
    "start_date = swo.start_date\n",
    "\n",
    "fwd = swo.get_swap_rate(dsc_curve, estim_curve)\n",
    "flt_adjs = swo.get_flt_adjustments(dsc_curve, estim_curve)\n",
    "\n",
    "#### READ IRSM OUT\n",
    "_, irsmout = log.get_xml(OUT_LOG)\n",
    "ref_swo = list(log.get_calib_basket(irsmout))[0]\n",
    "\n",
    "\n",
    "ref_swos = list(log.get_calib_basket(irsmout))\n",
    "# ref_swo = ref_swos[0]\n",
    "\n",
    "ref_mr, (buckets, hw_sigma) = log.get_hw_params(irsmout)\n",
    "\n",
    "sigma = hw_sigma[0]\n",
    "\n",
    "#### END READ IRSM OUT\n",
    "\n",
    "\n",
    "\n",
    "#### MAIN HW\n",
    "\n",
    "hw_dates = np.insert(swo.payment_dates, 0, start_date)\n",
    "\n",
    "coef = hw.get_coef(swo.dcfs, swo.strike, flt_adjs)\n",
    "P_i = hw.get_P_i(dsc_curve, start_date, swo.payment_dates)\n",
    "alpha_i = hw.get_alpha_i(ref_mr, expiry, sigma, hw_dates)\n",
    "hw_alphas = hw.get_hw_alphas(sigma, ref_mr, expiry, hw_dates)\n",
    "\n",
    "x_star = hw.get_x_star(coef, P_i, alpha_i)\n",
    "\n",
    "price = hw.hw_swo_analytic(coef, P_i, alpha_i, x_star, IsCall=True) * dsc_curve.get_dsc(swo.expiry)\n",
    "\n",
    "print('fwd recon :', ref_swo.fwd - fwd)\n",
    "print('Annuity recon', ref_swo.annuity - swo.get_annuity(dsc_curve))\n",
    "print('x_star', x_star)\n",
    "print('swap_value', hw.swap_value(coef, P_i, alpha_i, x_star))\n",
    "print('***Prices***')\n",
    "print('my HW price', 1000000*price)\n",
    "print('my numerical HW price', 1000000*hw.hw_swo_numeric(coef, P_i, alpha_i, IsCall=False))\n",
    "print('out put price', 1000000*ref_swo.tgt_premium ,'with recon', ref_swo.tgt_premium - price )\n",
    "print(100*(ref_swo.tgt_premium - price)/price, '% difference' )\n",
    "\n"
   ]
  },
  {
   "cell_type": "code",
   "execution_count": 5,
   "metadata": {
    "collapsed": true,
    "jupyter": {
     "outputs_hidden": true
    }
   },
   "outputs": [
    {
     "data": {
      "text/plain": [
       "array([1.01106216e-05, 5.05254192e-05, 1.85773023e-03, 3.56262461e-03,\n",
       "       5.18893797e-03, 6.73593510e-03])"
      ]
     },
     "execution_count": 6,
     "metadata": {},
     "output_type": "execute_result"
    }
   ],
   "source": []
  },
  {
   "cell_type": "code",
   "execution_count": 6,
   "metadata": {
    "collapsed": true,
    "jupyter": {
     "outputs_hidden": true
    }
   },
   "outputs": [
    {
     "data": {
      "text/plain": [
       "array([1.01106216e-05, 5.05254192e-05, 1.85773023e-03, 3.56262461e-03,\n",
       "       5.18893797e-03, 6.73593510e-03])"
      ]
     },
     "execution_count": 6,
     "metadata": {},
     "output_type": "execute_result"
    }
   ],
   "source": []
  },
  {
   "cell_type": "code",
   "execution_count": 7,
   "metadata": {},
   "outputs": [],
   "source": []
  }
 ],
 "metadata": {
  "kernelspec": {
   "display_name": "Python 3",
   "language": "python",
   "name": "python3"
  },
  "language_info": {
   "codemirror_mode": {
    "name": "ipython",
    "version": 3
   },
   "file_extension": ".py",
   "mimetype": "text/x-python",
   "name": "python",
   "nbconvert_exporter": "python",
   "pygments_lexer": "ipython3",
   "version": "3.7.1"
  }
 },
 "nbformat": 4,
 "nbformat_minor": 4
}
