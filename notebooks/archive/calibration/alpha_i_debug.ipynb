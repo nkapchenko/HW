{
 "cells": [
  {
   "cell_type": "code",
   "execution_count": 20,
   "metadata": {},
   "outputs": [],
   "source": [
    "import numpy as np\n",
    "from numpy import sqrt, array, exp\n",
    "\n",
    "def get_alpha_i(a, expiry, sigma, hw_dates):\n",
    "    ''' a - HW mean rev. aka (k)\n",
    "        T - expiry '''\n",
    "    assert isinstance(a, float), 'mean reversion should be float'\n",
    "    assert isinstance(expiry, float), 'expiry should be float'\n",
    "    assert isinstance(hw_dates, np.ndarray), 'hw_dates should be np.ndarray'\n",
    "    assert isinstance(sigma, float) or isinstance(sigma, dict), 'sigma should be float or dict'\n",
    "\n",
    "    if isinstance(sigma, float):\n",
    "        variance_term = np.sqrt(0.5 * (sigma ** 2) * (np.exp(2 * a * expiry) - 1) / a)\n",
    "        res = [variance_term * (np.exp(-a*expiry) - np.exp(-a*t))/a for t in hw_dates]\n",
    "        return np.array(res)\n",
    "    elif isinstance(sigma, dict):\n",
    "        expiries = sigma['buckets'][1:-1]\n",
    "        sigmas = sigma['values'][1:-1]\n",
    "        variance_term = 0.5 * (sigmas[0] ** 2) * (np.exp(2 * a * expiries[0]) - 1) / a\n",
    "        for i in range(len(expiries) - 1):\n",
    "            variance_term += 0.5 * (sigmas[i+1] ** 2) * (np.exp(2 * a * expiries[i+1]) - np.exp(2 * a * expiries[i])) / a\n",
    "\n",
    "        res = [sqrt(variance_term) * (np.exp(-a * expiry) - np.exp(-a * t)) / a for t in hw_dates]\n",
    "        return np.array(res)"
   ]
  },
  {
   "cell_type": "code",
   "execution_count": 30,
   "metadata": {},
   "outputs": [],
   "source": [
    "a = 0.05\n",
    "expiry = 0.99726027\n",
    "const_sigma = 50.\n",
    "hw_dates = np.array([1.00547945, 2.0109589 , 3.00821918, 4.00821918, 5.00821918])\n",
    "\n",
    "ref_sigma = {\n",
    "    'buckets': np.array([ 0.        , 0.99726027, 30.99726027]),\n",
    "    'values': np.array([const_sigma,const_sigma, const_sigma])}"
   ]
  },
  {
   "cell_type": "code",
   "execution_count": 31,
   "metadata": {},
   "outputs": [],
   "source": [
    "ref_sigma2 = {\n",
    "    'buckets':np.array([ 0. ,     0.3,        0.5, 0.99726027, 30.99726027]),\n",
    "    'values': np.array([const_sigma, const_sigma, const_sigma, const_sigma, const_sigma])\n",
    "}"
   ]
  },
  {
   "cell_type": "code",
   "execution_count": 32,
   "metadata": {},
   "outputs": [
    {
     "data": {
      "text/plain": [
       "array([  0.40029105,  48.14884517,  93.19423327, 136.16341475,\n",
       "       177.03696451])"
      ]
     },
     "execution_count": 32,
     "metadata": {},
     "output_type": "execute_result"
    }
   ],
   "source": [
    "get_alpha_i(a, expiry, ref_sigma, hw_dates)"
   ]
  },
  {
   "cell_type": "code",
   "execution_count": 33,
   "metadata": {},
   "outputs": [
    {
     "data": {
      "text/plain": [
       "array([  0.40029105,  48.14884517,  93.19423327, 136.16341475,\n",
       "       177.03696451])"
      ]
     },
     "execution_count": 33,
     "metadata": {},
     "output_type": "execute_result"
    }
   ],
   "source": [
    "get_alpha_i(a, expiry, ref_sigma2, hw_dates)"
   ]
  }
 ],
 "metadata": {
  "kernelspec": {
   "display_name": "Python 3",
   "language": "python",
   "name": "python3"
  },
  "language_info": {
   "codemirror_mode": {
    "name": "ipython",
    "version": 3
   },
   "file_extension": ".py",
   "mimetype": "text/x-python",
   "name": "python",
   "nbconvert_exporter": "python",
   "pygments_lexer": "ipython3",
   "version": "3.7.1"
  }
 },
 "nbformat": 4,
 "nbformat_minor": 4
}
