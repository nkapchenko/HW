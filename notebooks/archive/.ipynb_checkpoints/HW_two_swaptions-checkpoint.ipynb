{
 "cells": [
  {
   "cell_type": "code",
   "execution_count": 1,
   "metadata": {},
   "outputs": [],
   "source": [
    "import numpy as np\n",
    "from numpy import exp\n",
    "from hw import Jamshidian as jamsh\n",
    "from hw import Henrard as henr\n",
    "from hw import calibration as hw_calib\n",
    "import hw.calibration as calib\n",
    "from hw.const import *\n",
    "from fox_toolbox.utils import xml_parser as log\n",
    "from scipy.stats import norm\n",
    "import scipy.integrate as integrate\n",
    "from numpy import exp, sqrt\n",
    "from scipy.stats import norm\n",
    "from fox_toolbox.utils import volatility as vols\n",
    "\n",
    "%load_ext autoreload\n",
    "%autoreload 2"
   ]
  },
  {
   "cell_type": "markdown",
   "metadata": {},
   "source": [
    "### Read IRSM FORM"
   ]
  },
  {
   "cell_type": "code",
   "execution_count": 2,
   "metadata": {},
   "outputs": [],
   "source": [
    "_, irsmform = log.get_xml(INPUT_2SWO)\n",
    "main_curve, sprds = log.get_curves(irsmform)\n",
    "dsc_curve = main_curve\n",
    "\n",
    "try:\n",
    "    estim_curve = sprds[0]\n",
    "except TypeError:\n",
    "    estim_curve = main_curve\n",
    "\n",
    "cal_basket = list(log.get_calib_basket(irsmform))\n",
    "swos = cal_basket"
   ]
  },
  {
   "cell_type": "code",
   "execution_count": 30,
   "metadata": {},
   "outputs": [],
   "source": [
    "def fwd_fadj_ann (cal_basket):\n",
    "    for swo in cal_basket:\n",
    "        fwd = swo.get_swap_rate(main_curve, estim_curve)\n",
    "        flt_adjs = swo.get_flt_adjustments(main_curve, estim_curve)\n",
    "        calib_annuity = swo.get_annuity(main_curve)\n",
    "        yield fwd, flt_adjs, calib_annuity"
   ]
  },
  {
   "cell_type": "code",
   "execution_count": 4,
   "metadata": {},
   "outputs": [
    {
     "data": {
      "text/plain": [
       "(0.003691106445027665,\n",
       " array([-0.00299998,  0.00019777,  0.00346821,  0.00673446]),\n",
       " 4.035163414390461)"
      ]
     },
     "execution_count": 4,
     "metadata": {},
     "output_type": "execute_result"
    }
   ],
   "source": [
    "swo1"
   ]
  },
  {
   "cell_type": "code",
   "execution_count": 5,
   "metadata": {},
   "outputs": [
    {
     "data": {
      "text/plain": [
       "(0.005604875159672455,\n",
       " array([0.00019777, 0.00346821, 0.00673446]),\n",
       " 3.0182500819239797)"
      ]
     },
     "execution_count": 5,
     "metadata": {},
     "output_type": "execute_result"
    }
   ],
   "source": [
    "swo2"
   ]
  },
  {
   "cell_type": "markdown",
   "metadata": {},
   "source": [
    "### READ IRSM OUT"
   ]
  },
  {
   "cell_type": "code",
   "execution_count": 6,
   "metadata": {},
   "outputs": [],
   "source": [
    "_, irsmout = log.get_xml(OUTPUT_2SWO)\n",
    "ref_swos = list(log.get_calib_basket(irsmout))\n",
    "\n",
    "ref_mr, (buckets, hw_sigma) = log.get_hw_params(irsmout)\n",
    "\n",
    "ref_sigmas = hw_sigma[1:-1]"
   ]
  },
  {
   "cell_type": "markdown",
   "metadata": {},
   "source": [
    "### MAIN HW (Jamshidian)"
   ]
  },
  {
   "cell_type": "code",
   "execution_count": 10,
   "metadata": {},
   "outputs": [
    {
     "data": {
      "text/plain": [
       "[0.013734203599531935, 0.01771261281816838]"
      ]
     },
     "execution_count": 10,
     "metadata": {},
     "output_type": "execute_result"
    }
   ],
   "source": [
    "calib_premiumsJ = []\n",
    "\n",
    "for swo, ref_sigma in zip(cal_basket, ref_sigmas):\n",
    "    if np.isnan(swo.strike):\n",
    "        swo.strike = 0. \n",
    "    coefJ = jamsh.get_coef(swo, ref_mr, ref_sigma, main_curve, estim_curve)\n",
    "    b_i = jamsh.get_b_i(swo, ref_mr)\n",
    "    varx = jamsh.var_x(swo.expiry, ref_mr, ref_sigma)\n",
    "    \n",
    "    x_starJ = jamsh.get_x_star(coefJ, b_i, varx)\n",
    "    \n",
    "    jamsh_price = jamsh.hw_swo(swo, ref_mr, ref_sigma, main_curve, estim_curve) \n",
    "    \n",
    "    calib_premiumsJ.append(jamsh_price)\n",
    "    \n",
    "calib_premiumsJ"
   ]
  },
  {
   "cell_type": "markdown",
   "metadata": {},
   "source": [
    "## MAIN HW (Hernard)"
   ]
  },
  {
   "cell_type": "code",
   "execution_count": 12,
   "metadata": {},
   "outputs": [
    {
     "data": {
      "text/plain": [
       "[0.013708071029350788, 0.01760959724722133]"
      ]
     },
     "execution_count": 12,
     "metadata": {},
     "output_type": "execute_result"
    }
   ],
   "source": [
    "calib_premiumsH = []\n",
    "\n",
    "for swo, ref_sigma in zip(cal_basket, ref_sigmas):\n",
    "    \n",
    "    start_date = swo.start_date\n",
    "    hw_dates = np.insert(swo.payment_dates, 0, start_date)\n",
    "    flt_adjs = swo.get_flt_adjustments(main_curve, estim_curve)\n",
    "    \n",
    "    coefH = henr.get_coef(swo.day_count_fractions, swo.strike, flt_adjs)\n",
    "    P_i = henr.get_P_i(dsc_curve, start_date, swo.payment_dates)\n",
    "    alpha_i = henr.get_alpha_i(ref_mr, swo.expiry, ref_sigma, hw_dates)\n",
    "    \n",
    "    x_starH = henr.get_x_star(coefH, P_i, alpha_i)\n",
    "    \n",
    "    henr_price = henr.hw_swo(swo, ref_mr, ref_sigma, dsc_curve, estim_curve)\n",
    "    \n",
    "    calib_premiumsH.append(henr_price)\n",
    "    \n",
    "calib_premiumsH"
   ]
  },
  {
   "cell_type": "markdown",
   "metadata": {},
   "source": [
    "#### ! <font color='red'>With reference HW sigma swo 2 tgt premium is not perfectly matched </font> !"
   ]
  },
  {
   "cell_type": "code",
   "execution_count": 152,
   "metadata": {},
   "outputs": [
    {
     "name": "stdout",
     "output_type": "stream",
     "text": [
      " *-*-* \n",
      "swaption number 0: \n",
      "Jamsh price with <RefSigma>          1.3734203599531936\n",
      "Hern price with <RefSigma>           1.3708071029350788\n",
      "<BlackPrice>                         1.37069401043\n",
      "<CalibPremium>                       1.37069398165\n",
      "Jamsh price with my Jamsh sigma      1.3706940103819307\n",
      "Hern price with my hern sigma        1.3706940103995868\n",
      " \n",
      "My calibrated Jamshidian sigma:      0.1797215337202844\n",
      "My calibrated Henrard sigma:         0.19539238377504808\n",
      "<RefSigma> (Henrard):                0.19598464043\n",
      " *-*-* \n",
      "swaption number 1: \n",
      "Jamsh price with <RefSigma>          1.7712612818168378\n",
      "Hern price with <RefSigma>           1.7609597247221331\n",
      "<BlackPrice>                         1.72183611732\n",
      "<CalibPremium>                       1.7218360768299998\n",
      "Jamsh price with my Jamsh sigma      1.721836117299037\n",
      "Hern price with my hern sigma        1.7218361172998797\n",
      " \n",
      "My calibrated Jamshidian sigma:      0.27919654059867116\n",
      "My calibrated Henrard sigma:         0.29786723128508935\n",
      "<RefSigma> (Henrard):                0.36606267612\n"
     ]
    }
   ],
   "source": [
    "for i in range(2):\n",
    "    print(f' *-*-* ')\n",
    "    print(f'swaption number {i}: ')\n",
    "    swo = cal_basket[i]\n",
    "    ref_swo = ref_swos[i]\n",
    "    fwd = swos[i][0]\n",
    "    calib_annuity = swos[i][2]\n",
    "    strike = swo.strike\n",
    "\n",
    "    w = -1.0 if swo.pay_rec == 'Receiver' else 1.0\n",
    "\n",
    "    black_price = calib_annuity * vols.BachelierPrice(fwd, strike, swo.vol.value * np.sqrt(swo.expiry), w=w)\n",
    "    \n",
    "    print('Jamsh price with <RefSigma>         ', 100*calib_premiumsJ[i])\n",
    "    print('Hern price with <RefSigma>          ', 100*calib_premiumsH[i])\n",
    "    print('<BlackPrice>                        ', 100*ref_swo.tgt_premium)\n",
    "    print('<CalibPremium>                      ', 100*ref_swo.cal_premium)\n",
    "    print('Jamsh price with my Jamsh sigma     ', 100*jamsh.hw_swo(swo, ref_mr, sigma_hw_jamsh[i], main_curve, estim_curve))\n",
    "    print('Hern price with my hern sigma       ', 100*henr.hw_swo(swo, ref_mr, sigma_hw_henr[i], main_curve, estim_curve))\n",
    "    print(' ')\n",
    "    print('My calibrated Jamshidian sigma:     ', 100*sigma_hw_jamsh[i])\n",
    "    print('My calibrated Henrard sigma:        ', 100*sigma_hw_henr[i])\n",
    "    print('<RefSigma> (Henrard):               ', 100*ref_sigmas[i])\n",
    "    "
   ]
  },
  {
   "cell_type": "markdown",
   "metadata": {},
   "source": [
    "## HW Calibration"
   ]
  },
  {
   "cell_type": "code",
   "execution_count": 148,
   "metadata": {},
   "outputs": [
    {
     "data": {
      "text/plain": [
       "[0.001797215337202844, 0.0027919654059867117]"
      ]
     },
     "execution_count": 148,
     "metadata": {},
     "output_type": "execute_result"
    }
   ],
   "source": [
    "sigma_hw_jamsh = hw_calib._calibrate_sigma_hw(cal_basket, ref_mr, dsc_curve, estim_curve, True)\n",
    "sigma_hw_jamsh"
   ]
  },
  {
   "cell_type": "code",
   "execution_count": 150,
   "metadata": {},
   "outputs": [
    {
     "data": {
      "text/plain": [
       "[0.0019539238377504807, 0.0029786723128508935]"
      ]
     },
     "execution_count": 150,
     "metadata": {},
     "output_type": "execute_result"
    }
   ],
   "source": [
    "sigma_hw_henr = hw_calib._calibrate_sigma_hw(cal_basket, ref_mr, dsc_curve, estim_curve, False)\n",
    "sigma_hw_henr"
   ]
  },
  {
   "cell_type": "code",
   "execution_count": 156,
   "metadata": {},
   "outputs": [
    {
     "data": {
      "text/plain": [
       "0.003691106445027665"
      ]
     },
     "execution_count": 156,
     "metadata": {},
     "output_type": "execute_result"
    }
   ],
   "source": [
    "swos[0][0]"
   ]
  },
  {
   "cell_type": "code",
   "execution_count": null,
   "metadata": {},
   "outputs": [],
   "source": []
  },
  {
   "cell_type": "code",
   "execution_count": null,
   "metadata": {},
   "outputs": [],
   "source": []
  },
  {
   "cell_type": "code",
   "execution_count": null,
   "metadata": {},
   "outputs": [],
   "source": []
  },
  {
   "cell_type": "code",
   "execution_count": null,
   "metadata": {},
   "outputs": [],
   "source": []
  },
  {
   "cell_type": "code",
   "execution_count": null,
   "metadata": {},
   "outputs": [],
   "source": []
  },
  {
   "cell_type": "code",
   "execution_count": null,
   "metadata": {},
   "outputs": [],
   "source": []
  },
  {
   "cell_type": "code",
   "execution_count": null,
   "metadata": {},
   "outputs": [],
   "source": []
  },
  {
   "cell_type": "code",
   "execution_count": 14,
   "metadata": {},
   "outputs": [
    {
     "name": "stdout",
     "output_type": "stream",
     "text": [
      "0.013706940103996023\n"
     ]
    },
    {
     "data": {
      "text/plain": [
       "0.19539238377504808"
      ]
     },
     "execution_count": 14,
     "metadata": {},
     "output_type": "execute_result"
    }
   ],
   "source": [
    "sigma_hw_henr = hw_calib.calibrate_sigma_hw(cal_basket, ref_mr, dsc_curve, estim_curve, False)\n",
    "100*sigma_hw_henr"
   ]
  },
  {
   "cell_type": "code",
   "execution_count": 15,
   "metadata": {},
   "outputs": [
    {
     "data": {
      "text/plain": [
       "-0.30219544432282647"
      ]
     },
     "execution_count": 15,
     "metadata": {},
     "output_type": "execute_result"
    }
   ],
   "source": [
    "100*(sigma_hw_henr - ref_sigma)/ref_sigma"
   ]
  },
  {
   "cell_type": "code",
   "execution_count": 16,
   "metadata": {},
   "outputs": [
    {
     "name": "stdout",
     "output_type": "stream",
     "text": [
      "fwd recon : 7.23349331821499e-14\n",
      "Annuity recon -6.128431095930864e-14\n",
      "\n",
      "***Jamshidian pricing info***\n",
      "x_star Jamshidian -1.995775631165543\n",
      "swap_value Jamshidian -4.3298697960381105e-15\n",
      "\n",
      "***Henrard pricing info***\n",
      "x_star Hernard -1.9948237621088238\n",
      "swap_value Henrard -1.1102230246251565e-16\n",
      " \n",
      "TEST Bachelier -> Black price recon -3.039773294188919e-13\n",
      " \n",
      "***Prices %***\n",
      "TEST Jamsh hw_swo  1.3734203599531936\n",
      "TEST Henr hw_swo   1.3708071029350788\n",
      "out put price      1.37069401043\n",
      " \n",
      "***Calibration: sigma Hull White %***\n",
      "TEST hw_calib Jamshidian:      0.1797215337202844\n",
      "TEST hw_calib Henrard:         0.19539238377504808\n",
      "out put reference sigma:       0.19598464043\n"
     ]
    }
   ],
   "source": [
    "print('fwd recon :', ref_swo.fwd - fwd)\n",
    "print('Annuity recon', ref_swo.annuity - calib_annuity)\n",
    "print('')\n",
    "print('***Jamshidian pricing info***')\n",
    "print('x_star Jamshidian', x_starJ)\n",
    "print('swap_value Jamshidian', jamsh.swap_value(coefJ, b_i, varx, x_starJ))\n",
    "print('')\n",
    "print('***Henrard pricing info***')\n",
    "print('x_star Hernard', x_starH)\n",
    "print('swap_value Henrard', henr.swap_value(coefH, P_i, alpha_i, x_starH))\n",
    "print(' ')\n",
    "print('TEST Bachelier -> Black price recon', black_price - ref_swo.tgt_premium )\n",
    "print(' ')\n",
    "print('***Prices %***')\n",
    "print('TEST Jamsh hw_swo ', 100*jamsh_price)\n",
    "print('TEST Henr hw_swo  ', 100*henr_price)\n",
    "print('out put price     ', 100*ref_swo.tgt_premium)\n",
    "print(' ')\n",
    "print('***Calibration: sigma Hull White %***')\n",
    "print('TEST hw_calib Jamshidian:     ', 100*sigma_hw_jamsh)\n",
    "print('TEST hw_calib Henrard:        ', 100*sigma_hw_henr)\n",
    "print('out put reference sigma:      ', 100*ref_sigma)"
   ]
  }
 ],
 "metadata": {
  "kernelspec": {
   "display_name": "Python 3",
   "language": "python",
   "name": "python3"
  },
  "language_info": {
   "codemirror_mode": {
    "name": "ipython",
    "version": 3
   },
   "file_extension": ".py",
   "mimetype": "text/x-python",
   "name": "python",
   "nbconvert_exporter": "python",
   "pygments_lexer": "ipython3",
   "version": "3.7.1"
  }
 },
 "nbformat": 4,
 "nbformat_minor": 4
}
