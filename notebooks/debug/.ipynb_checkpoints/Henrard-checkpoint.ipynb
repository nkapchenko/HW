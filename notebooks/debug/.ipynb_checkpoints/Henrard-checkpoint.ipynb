{
 "cells": [
  {
   "cell_type": "code",
   "execution_count": 3,
   "metadata": {},
   "outputs": [],
   "source": [
    "import pandas as pd\n",
    "from numpy import array, median\n",
    "import numpy as np\n",
    "from hw import Jamshidian\n",
    "from hw import Henrard \n",
    "from hw import hw_helper\n",
    "from hw import calibration as hw_calib\n",
    "from hw.const import *\n",
    "from fox_toolbox.utils import xml_parser, rates\n",
    "from random import choice\n",
    "import matplotlib.pyplot as plt\n",
    "\n",
    "import matplotlib as mpl\n",
    "import matplotlib.pyplot as plt\n",
    "%matplotlib inline\n",
    "%config InlineBackend.figure_format = 'retina'\n",
    "\n",
    "import seaborn as sns\n",
    "sns.set_context(\"poster\")\n",
    "sns.set(rc={'figure.figsize': (16, 5.)})\n",
    "sns.set_style(\"whitegrid\")\n",
    "\n",
    "%load_ext autoreload\n",
    "%autoreload 2"
   ]
  },
  {
   "cell_type": "markdown",
   "metadata": {},
   "source": [
    "### Read IRSM FORM"
   ]
  },
  {
   "cell_type": "code",
   "execution_count": 4,
   "metadata": {},
   "outputs": [],
   "source": [
    "main_curve, sprds = xml_parser.get_rate_curves(INPUT_5SWO)\n",
    "dsc_curve = main_curve\n",
    "\n",
    "try:\n",
    "    estim_curve = sprds[0]\n",
    "except TypeError:\n",
    "    estim_curve = main_curve\n",
    "\n",
    "cal_basket = list(xml_parser.get_calib_basket(INPUT_5SWO))"
   ]
  },
  {
   "cell_type": "markdown",
   "metadata": {},
   "source": [
    "### READ IRSM OUT"
   ]
  },
  {
   "cell_type": "code",
   "execution_count": 5,
   "metadata": {},
   "outputs": [],
   "source": [
    "_, irsmout = xml_parser.get_xml(OUTPUT_5SWO)\n",
    "ref_swos = list(xml_parser.get_calib_basket(irsmout))\n",
    "\n",
    "ref_mr, (hw_buckets, hw_sigma) = xml_parser.get_hw_params(irsmout)\n",
    "\n",
    "ref_sigmas = rates.Curve(hw_buckets, hw_sigma, 'PieceWise')\n",
    "\n",
    "debug_df = pd.DataFrame()"
   ]
  },
  {
   "cell_type": "markdown",
   "metadata": {},
   "source": [
    "## Hernard pricer with its ref sigma"
   ]
  },
  {
   "cell_type": "code",
   "execution_count": 7,
   "metadata": {},
   "outputs": [
    {
     "data": {
      "text/plain": [
       "[0.015144105523752116]"
      ]
     },
     "execution_count": 7,
     "metadata": {},
     "output_type": "execute_result"
    }
   ],
   "source": [
    "calib_premiumsH = []\n",
    "\n",
    "swo = cal_basket[2]\n",
    "      \n",
    "henr_price, debug = Henrard.hw_swo(swo, ref_mr, ref_sigmas, dsc_curve, estim_curve)\n",
    "debug_df = pd.concat([debug_df, pd.DataFrame(data=debug)], sort=False)\n",
    "calib_premiumsH.append(henr_price)\n",
    "\n",
    "a = ref_mr\n",
    "sigma = ref_sigmas\n",
    "IsCall = False if swo.pay_rec == 'Receiver' else True\n",
    "flt_adjs = swo.get_flt_adjustments(dsc_curve, estim_curve)\n",
    "\n",
    "hw_dates = np.insert(swo.payment_dates, 0, swo.start_date)\n",
    "\n",
    "coef = Henrard.get_coef(swo.day_count_fractions, swo.strike, flt_adjs)\n",
    "P_i = Henrard.get_P_i(dsc_curve, hw_dates)\n",
    "alpha_i, total_var = Henrard.get_alpha_i(a, swo.expiry, hw_dates, sigma)\n",
    "old_alpha, old_debug = Henrard.old_get_alpha_i(a, swo.expiry, hw_dates, sigma)\n",
    "\n",
    "calib_premiumsH"
   ]
  }
 ],
 "metadata": {
  "kernelspec": {
   "display_name": "Python 3",
   "language": "python",
   "name": "python3"
  },
  "language_info": {
   "codemirror_mode": {
    "name": "ipython",
    "version": 3
   },
   "file_extension": ".py",
   "mimetype": "text/x-python",
   "name": "python",
   "nbconvert_exporter": "python",
   "pygments_lexer": "ipython3",
   "version": "3.7.1"
  }
 },
 "nbformat": 4,
 "nbformat_minor": 4
}
