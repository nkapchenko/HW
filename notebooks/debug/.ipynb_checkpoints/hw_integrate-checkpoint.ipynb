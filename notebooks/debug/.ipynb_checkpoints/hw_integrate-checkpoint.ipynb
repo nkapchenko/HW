{
 "cells": [
  {
   "cell_type": "code",
   "execution_count": 5,
   "metadata": {},
   "outputs": [
    {
     "name": "stdout",
     "output_type": "stream",
     "text": [
      "The autoreload extension is already loaded. To reload it, use:\n",
      "  %reload_ext autoreload\n"
     ]
    }
   ],
   "source": [
    "import pandas as pd\n",
    "from numpy import array, median, exp, sqrt\n",
    "from hw import Jamshidian \n",
    "from hw import hw_helper\n",
    "from hw import calibration as hw_calib\n",
    "from hw.const import *\n",
    "from fox_toolbox.utils import xml_parser, rates\n",
    "from random import choice\n",
    "import matplotlib.pyplot as plt\n",
    "\n",
    "import matplotlib as mpl\n",
    "import matplotlib.pyplot as plt\n",
    "%matplotlib inline\n",
    "%config InlineBackend.figure_format = 'retina'\n",
    "\n",
    "import seaborn as sns\n",
    "sns.set_context(\"poster\")\n",
    "sns.set(rc={'figure.figsize': (16, 5.)})\n",
    "sns.set_style(\"whitegrid\")\n",
    "\n",
    "%load_ext autoreload\n",
    "%autoreload 2"
   ]
  },
  {
   "cell_type": "markdown",
   "metadata": {},
   "source": [
    "### Read IRSM FORM"
   ]
  },
  {
   "cell_type": "code",
   "execution_count": 6,
   "metadata": {},
   "outputs": [],
   "source": [
    "main_curve, sprds = xml_parser.get_rate_curves(INPUT_5SWO)\n",
    "dsc_curve = main_curve\n",
    "\n",
    "try:\n",
    "    estim_curve = sprds[0]\n",
    "except TypeError:\n",
    "    estim_curve = main_curve\n",
    "\n",
    "cal_basket = list(xml_parser.get_calib_basket(INPUT_5SWO))"
   ]
  },
  {
   "cell_type": "markdown",
   "metadata": {},
   "source": [
    "### READ IRSM OUT"
   ]
  },
  {
   "cell_type": "code",
   "execution_count": 7,
   "metadata": {},
   "outputs": [],
   "source": [
    "_, irsmout = xml_parser.get_xml(OUTPUT_5SWO)\n",
    "ref_swos = list(xml_parser.get_calib_basket(irsmout))\n",
    "\n",
    "ref_mr, (hw_buckets, hw_sigma) = xml_parser.get_hw_params(irsmout)\n",
    "\n",
    "ref_sigmas = rates.Curve(hw_buckets, hw_sigma, 'PieceWise')"
   ]
  },
  {
   "cell_type": "markdown",
   "metadata": {},
   "source": [
    "### Jamshidian pricer with ref sigma (Hernard)"
   ]
  },
  {
   "cell_type": "code",
   "execution_count": 18,
   "metadata": {},
   "outputs": [
    {
     "data": {
      "text/plain": [
       "(0.015277326631131571, 0.015277326631131571)"
      ]
     },
     "execution_count": 18,
     "metadata": {},
     "output_type": "execute_result"
    }
   ],
   "source": [
    "calib_premiumsJ = []\n",
    "debug_df = pd.DataFrame()\n",
    "\n",
    "swo = cal_basket[2]\n",
    "      \n",
    "jamsh_price, debug = Jamshidian.hw_swo(swo, ref_mr, ref_sigmas, dsc_curve, estim_curve)\n",
    "debug_df = pd.concat([debug_df, pd.DataFrame(data=debug)], sort=False)\n",
    "calib_premiumsJ.append(jamsh_price)\n",
    "\n",
    "\n",
    "a = ref_mr\n",
    "sigma = ref_sigmas\n",
    "\n",
    "IsCall = False if swo.pay_rec == 'Receiver' else True\n",
    "\n",
    "coef = Jamshidian.get_coef(swo, a, sigma, dsc_curve, estim_curve)\n",
    "b_i = Jamshidian.get_b_i(swo, a)\n",
    "varx = Jamshidian.get_var_x(swo.expiry, a, sigma)\n",
    "\n",
    "\n",
    "sgn_changes = hw_helper.sign_changes(coef)\n",
    "\n",
    "x_star = Jamshidian.get_x_star(coef, b_i, varx)\n",
    "\n",
    "calib_premiumsJ[0], Jamshidian.hw_swo_analytic(coef, b_i, varx, x_star, IsCall)"
   ]
  },
  {
   "cell_type": "code",
   "execution_count": 19,
   "metadata": {},
   "outputs": [],
   "source": [
    "expiry = swo.expiry\n",
    "T = expiry\n",
    "u = T\n",
    "t = 0\n",
    "func = hw_helper._v"
   ]
  },
  {
   "cell_type": "code",
   "execution_count": 22,
   "metadata": {},
   "outputs": [
    {
     "data": {
      "text/plain": [
       "5.8147957298832575e-05"
      ]
     },
     "execution_count": 22,
     "metadata": {},
     "output_type": "execute_result"
    }
   ],
   "source": [
    "hw_helper._V(t,T,u,a,sigma)"
   ]
  }
 ],
 "metadata": {
  "kernelspec": {
   "display_name": "Python 3",
   "language": "python",
   "name": "python3"
  },
  "language_info": {
   "codemirror_mode": {
    "name": "ipython",
    "version": 3
   },
   "file_extension": ".py",
   "mimetype": "text/x-python",
   "name": "python",
   "nbconvert_exporter": "python",
   "pygments_lexer": "ipython3",
   "version": "3.7.1"
  }
 },
 "nbformat": 4,
 "nbformat_minor": 4
}
