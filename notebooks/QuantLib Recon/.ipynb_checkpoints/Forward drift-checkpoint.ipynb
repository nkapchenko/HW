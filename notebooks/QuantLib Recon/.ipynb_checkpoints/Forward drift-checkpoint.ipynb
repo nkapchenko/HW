{
 "cells": [
  {
   "cell_type": "code",
   "execution_count": 1,
   "metadata": {},
   "outputs": [],
   "source": [
    "import QuantLib as ql\n",
    "from QuantLib import *\n",
    "import numpy as np\n",
    "\n",
    "from mc import mc\n",
    "from hw import hw_helper"
   ]
  },
  {
   "cell_type": "code",
   "execution_count": 2,
   "metadata": {},
   "outputs": [],
   "source": [
    "sigma = 0.1\n",
    "a = 0.1\n",
    "timestep = 360\n",
    "length = 30 # in years\n",
    "forward_rate = 0.05\n",
    "day_count = ql.Thirty360()\n",
    "todays_date = ql.Date(15, 1, 2015)"
   ]
  },
  {
   "cell_type": "code",
   "execution_count": 4,
   "metadata": {},
   "outputs": [],
   "source": [
    "ql.Settings.instance().evaluationDate = todays_date\n",
    "\n",
    "spot_curve = ql.FlatForward(todays_date, ql.QuoteHandle(ql.SimpleQuote(forward_rate)), day_count)\n",
    "spot_curve_handle = ql.YieldTermStructureHandle(spot_curve)\n",
    "\n",
    "hw_process = ql.HullWhiteForwardProcess(spot_curve_handle, a, sigma)\n",
    "rng = ql.GaussianRandomSequenceGenerator(ql.UniformRandomSequenceGenerator(timestep, ql.UniformRandomGenerator()))\n",
    "seq = ql.GaussianPathGenerator(hw_process, length, timestep, rng, False)"
   ]
  },
  {
   "cell_type": "code",
   "execution_count": 5,
   "metadata": {},
   "outputs": [
    {
     "data": {
      "text/plain": [
       "-1.0408340855860843e-17"
      ]
     },
     "execution_count": 5,
     "metadata": {},
     "output_type": "execute_result"
    }
   ],
   "source": [
    "hw_helper.get_drift_T(1, 2, 2, a, sigma) - hw_process.M_T(1,2,2)"
   ]
  }
 ],
 "metadata": {
  "kernelspec": {
   "display_name": "Python 3",
   "language": "python",
   "name": "python3"
  },
  "language_info": {
   "codemirror_mode": {
    "name": "ipython",
    "version": 3
   },
   "file_extension": ".py",
   "mimetype": "text/x-python",
   "name": "python",
   "nbconvert_exporter": "python",
   "pygments_lexer": "ipython3",
   "version": "3.7.1"
  }
 },
 "nbformat": 4,
 "nbformat_minor": 4
}
