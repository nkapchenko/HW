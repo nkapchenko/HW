{
 "cells": [
  {
   "cell_type": "code",
   "execution_count": 1,
   "metadata": {},
   "outputs": [],
   "source": [
    "import sys\n",
    "import logging\n",
    "\n",
    "import numpy as np\n",
    "import scipy as sp\n",
    "import sklearn\n",
    "\n",
    "\n",
    "%load_ext autoreload\n",
    "%autoreload 2\n",
    "\n",
    "import matplotlib as mpl\n",
    "import matplotlib.pyplot as plt\n",
    "%matplotlib inline\n",
    "%config InlineBackend.figure_format = 'retina'\n",
    "\n",
    "import seaborn as sns\n",
    "sns.set_context(\"poster\")\n",
    "sns.set(rc={'figure.figsize': (16, 9.)})\n",
    "sns.set_style(\"whitegrid\")\n",
    "\n",
    "import pandas as pd\n",
    "pd.set_option(\"display.max_rows\", 120)\n",
    "pd.set_option(\"display.max_columns\", 120)\n",
    "\n",
    "from fox_toolbox.utils import xml_parser, rates, volatility"
   ]
  },
  {
   "cell_type": "code",
   "execution_count": 5,
   "metadata": {},
   "outputs": [
    {
     "name": "stdout",
     "output_type": "stream",
     "text": [
      "54.32454241921172 66.22030729876795 67.88179748866278\n"
     ]
    }
   ],
   "source": [
    "import numpy as np\n",
    "import matplotlib.pyplot as plt\n",
    "from scipy.stats import norm\n",
    "\n",
    "S0 = 100.\n",
    "r = 0.01\n",
    "q =0.00\n",
    "mu = r - q\n",
    "\n",
    "ntime = 20\n",
    "mc = 50\n",
    "\n",
    "vol = 0.1\n",
    "T = 100.\n",
    "K = 100.\n",
    "\n",
    "dt = T/ntime\n",
    "\n",
    "def payoff(traj, K):\n",
    "    for final in traj:\n",
    "        yield (final - K) if final>K else 0\n",
    "        \n",
    "        \n",
    "def Black(S0, r, q, T, K, vol):\n",
    "    d1 = (np.log(S0/K) + (r - q + vol**2/2)*T)/(vol*np.sqrt(T))\n",
    "    d2 = d1 - vol*np.sqrt(T)\n",
    "    price = S0*np.exp(-q*T) * norm.cdf(d1) - K*np.exp(-r*T)*norm.cdf(d2)\n",
    "    return price\n",
    "\n",
    "def ST(S0, r, q, T, K, vol, x):\n",
    "    return S0*np.exp((r-q-vol**2/2)*T + vol*np.sqrt(T)*x)\n",
    "\n",
    "noise = np.random.normal(0, 1., (ntime, mc))\n",
    "traj = np.zeros([ntime+1, mc]) + S0\n",
    "\n",
    "for t, rnd in zip(range(ntime), noise):\n",
    "    traj[t+1] = traj[t]*(1 + mu*dt + vol*np.sqrt(dt)*rnd)\n",
    "\n",
    "payoffs = list(payoff(traj[-1], K))\n",
    "num_traj = np.mean(payoffs)/np.exp(r*T)\n",
    "\n",
    "fwd = S0*np.exp(r*T)\n",
    "v =  vol*np.sqrt(T)\n",
    "black_price = volatility.BSPrice(fwd, K, v) * np.exp(-r*T)\n",
    "\n",
    "STs = [ST(S0, r, q, T, K, vol, x) for x in np.random.normal(0, 1., mc)]\n",
    "POs = [(x-K) if x>K else 0 for x in STs]\n",
    "num_final = np.mean(POs)/np.exp(r*T)\n",
    "print(num_traj, num_final, black_price)"
   ]
  },
  {
   "cell_type": "code",
   "execution_count": 6,
   "metadata": {},
   "outputs": [],
   "source": [
    "from fox_toolbox.utils import volatility"
   ]
  },
  {
   "cell_type": "code",
   "execution_count": 9,
   "metadata": {},
   "outputs": [
    {
     "data": {
      "text/plain": [
       "67.88179748866278"
      ]
     },
     "execution_count": 9,
     "metadata": {},
     "output_type": "execute_result"
    }
   ],
   "source": [
    "from numpy import exp, sqrt\n",
    "tvar = vol*sqrt(T)\n",
    "F = S0 * exp(r*T)\n",
    "volatility.BSPrice(F, K, tvar)*exp(-r*T)"
   ]
  },
  {
   "cell_type": "code",
   "execution_count": null,
   "metadata": {},
   "outputs": [],
   "source": []
  }
 ],
 "metadata": {
  "kernelspec": {
   "display_name": "Python 3",
   "language": "python",
   "name": "python3"
  },
  "language_info": {
   "codemirror_mode": {
    "name": "ipython",
    "version": 3
   },
   "file_extension": ".py",
   "mimetype": "text/x-python",
   "name": "python",
   "nbconvert_exporter": "python",
   "pygments_lexer": "ipython3",
   "version": "3.7.1"
  }
 },
 "nbformat": 4,
 "nbformat_minor": 4
}
